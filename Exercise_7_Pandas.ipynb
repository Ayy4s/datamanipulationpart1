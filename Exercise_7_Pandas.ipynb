{
  "nbformat": 4,
  "nbformat_minor": 0,
  "metadata": {
    "colab": {
      "provenance": [],
      "authorship_tag": "ABX9TyO/VWB6VDreKQQiIt4eeY3k",
      "include_colab_link": true
    },
    "kernelspec": {
      "name": "python3",
      "display_name": "Python 3"
    },
    "language_info": {
      "name": "python"
    }
  },
  "cells": [
    {
      "cell_type": "markdown",
      "metadata": {
        "id": "view-in-github",
        "colab_type": "text"
      },
      "source": [
        "<a href=\"https://colab.research.google.com/github/Ayy4s/datamanipulationpart1/blob/main/Exercise_7_Pandas.ipynb\" target=\"_parent\"><img src=\"https://colab.research.google.com/assets/colab-badge.svg\" alt=\"Open In Colab\"/></a>"
      ]
    },
    {
      "cell_type": "code",
      "execution_count": 1,
      "metadata": {
        "id": "CLmdlF8vOU0Y"
      },
      "outputs": [],
      "source": [
        "import pandas as pd"
      ]
    },
    {
      "cell_type": "code",
      "source": [
        "df = pd.read_csv('/content/world_alcohol - world_alcohol.csv')\n"
      ],
      "metadata": {
        "id": "Av9CUEmtO0sK"
      },
      "execution_count": 2,
      "outputs": []
    },
    {
      "cell_type": "code",
      "source": [
        "selected_columns = df[['Year', 'WHO region', 'Country', 'Beverage Types', 'Display Value']]"
      ],
      "metadata": {
        "id": "q6EuxxhoPXd9"
      },
      "execution_count": 3,
      "outputs": []
    },
    {
      "cell_type": "code",
      "source": [
        "selected_rows = selected_columns.loc[0:9]"
      ],
      "metadata": {
        "id": "FRyR3EL7PZID"
      },
      "execution_count": 4,
      "outputs": []
    },
    {
      "cell_type": "code",
      "source": [
        "print(selected_rows)"
      ],
      "metadata": {
        "id": "ecXOhRjCPaCm",
        "outputId": "04953614-06dd-4d93-f283-41779c2cb603",
        "colab": {
          "base_uri": "https://localhost:8080/"
        }
      },
      "execution_count": 5,
      "outputs": [
        {
          "output_type": "stream",
          "name": "stdout",
          "text": [
            "   Year       WHO region                Country Beverage Types  Display Value\n",
            "0  1986  Western Pacific               Viet Nam           Wine           0.00\n",
            "1  1986         Americas                Uruguay          Other           0.50\n",
            "2  1985           Africa           Cte d'Ivoire           Wine           1.62\n",
            "3  1986         Americas               Colombia           Beer           4.27\n",
            "4  1987         Americas  Saint Kitts and Nevis           Beer           1.98\n",
            "5  1987         Americas              Guatemala          Other           0.00\n",
            "6  1987           Africa              Mauritius           Wine           0.13\n",
            "7  1985           Africa                 Angola        Spirits           0.39\n",
            "8  1986         Americas    Antigua and Barbuda        Spirits           1.55\n",
            "9  1984           Africa                Nigeria          Other           6.10\n"
          ]
        }
      ]
    }
  ]
}