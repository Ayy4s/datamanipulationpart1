{
  "nbformat": 4,
  "nbformat_minor": 0,
  "metadata": {
    "colab": {
      "provenance": [],
      "authorship_tag": "ABX9TyNMmFlJshjnwp+Dqf9RQBPs",
      "include_colab_link": true
    },
    "kernelspec": {
      "name": "python3",
      "display_name": "Python 3"
    },
    "language_info": {
      "name": "python"
    }
  },
  "cells": [
    {
      "cell_type": "markdown",
      "metadata": {
        "id": "view-in-github",
        "colab_type": "text"
      },
      "source": [
        "<a href=\"https://colab.research.google.com/github/Ayy4s/datamanipulationpart1/blob/main/Exercise%204%20-%20Pandas.ipynb\" target=\"_parent\"><img src=\"https://colab.research.google.com/assets/colab-badge.svg\" alt=\"Open In Colab\"/></a>"
      ]
    },
    {
      "cell_type": "code",
      "execution_count": 1,
      "metadata": {
        "id": "cTXO3cosFcbs"
      },
      "outputs": [],
      "source": [
        "import pandas as pd"
      ]
    },
    {
      "cell_type": "code",
      "source": [
        "df = pd.read_csv('/content/world_alcohol - world_alcohol.csv')"
      ],
      "metadata": {
        "id": "zCuP4fNGF_VY"
      },
      "execution_count": 2,
      "outputs": []
    },
    {
      "cell_type": "code",
      "source": [],
      "metadata": {
        "id": "OA4NR-VYGEk4"
      },
      "execution_count": 9,
      "outputs": []
    },
    {
      "cell_type": "code",
      "source": [
        "filtered_df = df[(df['Display Value'] >= 0.5) & (df['Display Value'] <= 2.50)]"
      ],
      "metadata": {
        "id": "vgU6obtuGL_-"
      },
      "execution_count": 12,
      "outputs": []
    },
    {
      "cell_type": "code",
      "source": [
        "print(filtered_df)"
      ],
      "metadata": {
        "colab": {
          "base_uri": "https://localhost:8080/"
        },
        "id": "H7R6KGkSGKKm",
        "outputId": "07e63390-7cc8-476a-9566-457e7345bcc7"
      },
      "execution_count": 13,
      "outputs": [
        {
          "output_type": "stream",
          "name": "stdout",
          "text": [
            "    Year             WHO region  \\\n",
            "1   1986               Americas   \n",
            "2   1985                 Africa   \n",
            "4   1987               Americas   \n",
            "8   1986               Americas   \n",
            "11  1989               Americas   \n",
            "17  1989                 Africa   \n",
            "18  1984                 Europe   \n",
            "19  1984                 Africa   \n",
            "26  1985                 Europe   \n",
            "27  1984  Eastern Mediterranean   \n",
            "32  1989                 Africa   \n",
            "34  1986                 Europe   \n",
            "35  1985               Americas   \n",
            "40  1987                 Europe   \n",
            "46  1987               Americas   \n",
            "48  1987               Americas   \n",
            "49  1986                 Europe   \n",
            "54  1984               Americas   \n",
            "64  1989               Americas   \n",
            "70  1986                 Africa   \n",
            "71  1985                 Africa   \n",
            "74  1986               Americas   \n",
            "79  1989                 Europe   \n",
            "80  1985                 Africa   \n",
            "82  1987                 Europe   \n",
            "86  1986               Americas   \n",
            "89  1986  Eastern Mediterranean   \n",
            "\n",
            "                                              Country Beverage Types  \\\n",
            "1                                             Uruguay          Other   \n",
            "2                                        Cte d'Ivoire           Wine   \n",
            "4                               Saint Kitts and Nevis           Beer   \n",
            "8                                 Antigua and Barbuda        Spirits   \n",
            "11                                          Guatemala           Beer   \n",
            "17                                         Seychelles           Beer   \n",
            "18                                             Norway        Spirits   \n",
            "19                                              Kenya           Beer   \n",
            "26  United Kingdom of Great Britain and Northern I...           Wine   \n",
            "27                                            Bahrain           Beer   \n",
            "32                                          Mauritius           Beer   \n",
            "34                                 Russian Federation           Wine   \n",
            "35                              Saint Kitts and Nevis        Spirits   \n",
            "40                                            Austria        Spirits   \n",
            "46                                Trinidad and Tobago        Spirits   \n",
            "48                                          Nicaragua           Beer   \n",
            "49                                              Malta           Wine   \n",
            "54                                        El Salvador        Spirits   \n",
            "64                   Bolivia (Plurinational State of)           Beer   \n",
            "70                                         Madagascar        Spirits   \n",
            "71                                               Mali          Other   \n",
            "74                   Bolivia (Plurinational State of)        Spirits   \n",
            "79                                            Finland          Other   \n",
            "80                                             Malawi          Other   \n",
            "82                                            Ireland        Spirits   \n",
            "86                                            Bahamas           Wine   \n",
            "89                                            Lebanon           Wine   \n",
            "\n",
            "    Display Value  \n",
            "1            0.50  \n",
            "2            1.62  \n",
            "4            1.98  \n",
            "8            1.55  \n",
            "11           0.62  \n",
            "17           2.23  \n",
            "18           1.62  \n",
            "19           1.08  \n",
            "26           1.36  \n",
            "27           2.22  \n",
            "32           1.60  \n",
            "34           0.80  \n",
            "35           2.24  \n",
            "40           1.90  \n",
            "46           2.26  \n",
            "48           0.70  \n",
            "49           1.49  \n",
            "54           1.81  \n",
            "64           1.26  \n",
            "70           1.02  \n",
            "71           0.57  \n",
            "74           2.06  \n",
            "79           2.09  \n",
            "80           0.84  \n",
            "82           2.25  \n",
            "86           1.83  \n",
            "89           0.70  \n"
          ]
        }
      ]
    }
  ]
}