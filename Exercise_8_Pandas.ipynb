{
  "nbformat": 4,
  "nbformat_minor": 0,
  "metadata": {
    "colab": {
      "provenance": [],
      "authorship_tag": "ABX9TyNJ6wttVa2QYNcKkWU9EHtO",
      "include_colab_link": true
    },
    "kernelspec": {
      "name": "python3",
      "display_name": "Python 3"
    },
    "language_info": {
      "name": "python"
    }
  },
  "cells": [
    {
      "cell_type": "markdown",
      "metadata": {
        "id": "view-in-github",
        "colab_type": "text"
      },
      "source": [
        "<a href=\"https://colab.research.google.com/github/Ayy4s/datamanipulationpart1/blob/main/Exercise_8_Pandas.ipynb\" target=\"_parent\"><img src=\"https://colab.research.google.com/assets/colab-badge.svg\" alt=\"Open In Colab\"/></a>"
      ]
    },
    {
      "cell_type": "code",
      "execution_count": 1,
      "metadata": {
        "id": "BI3YvPSySyqP"
      },
      "outputs": [],
      "source": [
        "import pandas as pd"
      ]
    },
    {
      "cell_type": "code",
      "source": [
        "df = pd.read_csv('/content/world_alcohol - world_alcohol.csv')"
      ],
      "metadata": {
        "id": "MUHzDP34TS-N"
      },
      "execution_count": 2,
      "outputs": []
    },
    {
      "cell_type": "code",
      "source": [
        "filtered_df = df.iloc[1::5]"
      ],
      "metadata": {
        "id": "JUMdNPKQTUuZ"
      },
      "execution_count": 3,
      "outputs": []
    },
    {
      "cell_type": "code",
      "source": [
        "print(filtered_df)"
      ],
      "metadata": {
        "colab": {
          "base_uri": "https://localhost:8080/"
        },
        "id": "r4xdK2_HTWQW",
        "outputId": "4f8afdfb-b70a-4e6d-b38b-821965187605"
      },
      "execution_count": 4,
      "outputs": [
        {
          "output_type": "stream",
          "name": "stdout",
          "text": [
            "    Year             WHO region  \\\n",
            "1   1986               Americas   \n",
            "6   1987                 Africa   \n",
            "11  1989               Americas   \n",
            "16  1984               Americas   \n",
            "21  1989               Americas   \n",
            "26  1985                 Europe   \n",
            "31  1986        Western Pacific   \n",
            "36  1987  Eastern Mediterranean   \n",
            "41  1986                 Europe   \n",
            "46  1987               Americas   \n",
            "51  1987                 Europe   \n",
            "56  1987        Western Pacific   \n",
            "61  1984        Western Pacific   \n",
            "66  1987  Eastern Mediterranean   \n",
            "71  1985                 Africa   \n",
            "76  1985                 Africa   \n",
            "81  1985                 Europe   \n",
            "86  1986               Americas   \n",
            "91  1989                 Europe   \n",
            "96  1985                 Europe   \n",
            "\n",
            "                                              Country Beverage Types  \\\n",
            "1                                             Uruguay          Other   \n",
            "6                                           Mauritius           Wine   \n",
            "11                                          Guatemala           Beer   \n",
            "16                                         Costa Rica           Wine   \n",
            "21                                         Costa Rica        Spirits   \n",
            "26  United Kingdom of Great Britain and Northern I...           Wine   \n",
            "31                   Micronesia (Federated States of)           Wine   \n",
            "36                                              Egypt           Beer   \n",
            "41                                     Czech Republic           Beer   \n",
            "46                                Trinidad and Tobago        Spirits   \n",
            "51                                            Finland           Beer   \n",
            "56                                           Viet Nam           Wine   \n",
            "61                                   Papua New Guinea        Spirits   \n",
            "66                                               Iraq           Wine   \n",
            "71                                               Mali          Other   \n",
            "76                                            Comoros           Beer   \n",
            "81                                        Netherlands           Wine   \n",
            "86                                            Bahamas           Wine   \n",
            "91                                           Bulgaria           Beer   \n",
            "96                                         Luxembourg           Wine   \n",
            "\n",
            "    Display Value  \n",
            "1            0.50  \n",
            "6            0.13  \n",
            "11           0.62  \n",
            "16           0.06  \n",
            "21           4.51  \n",
            "26           1.36  \n",
            "31           0.00  \n",
            "36           0.07  \n",
            "41           6.82  \n",
            "46           2.26  \n",
            "51           3.88  \n",
            "56           0.00  \n",
            "61           0.08  \n",
            "66           0.01  \n",
            "71           0.57  \n",
            "76           0.02  \n",
            "81           2.54  \n",
            "86           1.83  \n",
            "91           4.43  \n",
            "96           7.38  \n"
          ]
        }
      ]
    }
  ]
}