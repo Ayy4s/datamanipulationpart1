{
  "nbformat": 4,
  "nbformat_minor": 0,
  "metadata": {
    "colab": {
      "provenance": [],
      "authorship_tag": "ABX9TyMxoF1sDQaWz5aTd3SKKS0Z",
      "include_colab_link": true
    },
    "kernelspec": {
      "name": "python3",
      "display_name": "Python 3"
    },
    "language_info": {
      "name": "python"
    }
  },
  "cells": [
    {
      "cell_type": "markdown",
      "metadata": {
        "id": "view-in-github",
        "colab_type": "text"
      },
      "source": [
        "<a href=\"https://colab.research.google.com/github/Ayy4s/datamanipulationpart1/blob/main/find_the_sentiment_of_all_apps_using_%22afinn%22_libipynb.ipynb\" target=\"_parent\"><img src=\"https://colab.research.google.com/assets/colab-badge.svg\" alt=\"Open In Colab\"/></a>"
      ]
    },
    {
      "cell_type": "code",
      "source": [
        "pip install afinn"
      ],
      "metadata": {
        "colab": {
          "base_uri": "https://localhost:8080/"
        },
        "id": "oopKZvrpaZzo",
        "outputId": "160725a5-5f32-451c-b4a8-44587943fab9"
      },
      "execution_count": 2,
      "outputs": [
        {
          "output_type": "stream",
          "name": "stdout",
          "text": [
            "Collecting afinn\n",
            "  Downloading afinn-0.1.tar.gz (52 kB)\n",
            "\u001b[?25l     \u001b[90m━━━━━━━━━━━━━━━━━━━━━━━━━━━━━━━━━━━━━━━━\u001b[0m \u001b[32m0.0/52.6 kB\u001b[0m \u001b[31m?\u001b[0m eta \u001b[36m-:--:--\u001b[0m\r\u001b[2K     \u001b[90m━━━━━━━━━━━━━━━━━━━━━━━━━━━━━━━━━━━━━━━━\u001b[0m \u001b[32m52.6/52.6 kB\u001b[0m \u001b[31m2.0 MB/s\u001b[0m eta \u001b[36m0:00:00\u001b[0m\n",
            "\u001b[?25h  Preparing metadata (setup.py) ... \u001b[?25l\u001b[?25hdone\n",
            "Building wheels for collected packages: afinn\n",
            "  Building wheel for afinn (setup.py) ... \u001b[?25l\u001b[?25hdone\n",
            "  Created wheel for afinn: filename=afinn-0.1-py3-none-any.whl size=53430 sha256=d85d2e2541ac85cecb3e4b9359ce00d50217d6cc4500b0c070d25f4c49bae28d\n",
            "  Stored in directory: /root/.cache/pip/wheels/b0/05/90/43f79196199a138fb486902fceca30a2d1b5228e6d2db8eb90\n",
            "Successfully built afinn\n",
            "Installing collected packages: afinn\n",
            "Successfully installed afinn-0.1\n"
          ]
        }
      ]
    },
    {
      "cell_type": "code",
      "source": [
        "from afinn import Afinn\n",
        "import pandas as pd"
      ],
      "metadata": {
        "id": "oOLB-uGIajVq"
      },
      "execution_count": 3,
      "outputs": []
    },
    {
      "cell_type": "code",
      "source": [
        "df = pd.read_csv('/content/cleaned_playstore_reviews.csv')"
      ],
      "metadata": {
        "id": "QHnvknjIak8T"
      },
      "execution_count": 4,
      "outputs": []
    },
    {
      "cell_type": "code",
      "source": [
        "afinn = Afinn()"
      ],
      "metadata": {
        "id": "d_iZQJUwaoaH"
      },
      "execution_count": 5,
      "outputs": []
    },
    {
      "cell_type": "code",
      "source": [
        "def calculate_sentiment(text):\n",
        "    return afinn.score(text)"
      ],
      "metadata": {
        "id": "MP0pOHdfaqKB"
      },
      "execution_count": 6,
      "outputs": []
    },
    {
      "cell_type": "code",
      "source": [
        "df['Sentiment_Polarity'] = df['Translated_Review'].apply(calculate_sentiment)"
      ],
      "metadata": {
        "id": "x71M_woTarLU"
      },
      "execution_count": 7,
      "outputs": []
    },
    {
      "cell_type": "code",
      "source": [
        "df['Sentiment'] = df['Sentiment_Polarity'].apply(lambda x: 'Positive' if x > 0 else 'Neutral' if x == 0 else 'Negative')\n"
      ],
      "metadata": {
        "id": "54fnDmbXatYD"
      },
      "execution_count": 8,
      "outputs": []
    },
    {
      "cell_type": "code",
      "source": [
        "print(df[['App', 'Translated_Review', 'Sentiment', 'Sentiment_Polarity']])\n"
      ],
      "metadata": {
        "colab": {
          "base_uri": "https://localhost:8080/"
        },
        "id": "j_jZuliNawJb",
        "outputId": "096a7255-abc3-4728-e06f-97a436ad5473"
      },
      "execution_count": 9,
      "outputs": [
        {
          "output_type": "stream",
          "name": "stdout",
          "text": [
            "                                                   App  \\\n",
            "0                                10 Best Foods for You   \n",
            "1                     104 找工作 - 找工作 找打工 找兼職 履歷健檢 履歷診療室   \n",
            "2                                                 11st   \n",
            "3                           1800 Contacts - Lens Store   \n",
            "4                      1LINE – One Line with One Touch   \n",
            "..                                                 ...   \n",
            "636                      Hotels Combined - Cheap deals   \n",
            "637  Hotels.com: Book Hotel Rooms & Find Vacation D...   \n",
            "638     Hotspot Shield Free VPN Proxy & Wi-Fi Security   \n",
            "639                                            Hotstar   \n",
            "640                     Housing-Real Estate & Property   \n",
            "\n",
            "                                     Translated_Review Sentiment  \\\n",
            "0    I like eat delicious food. That's I'm cooking ...  Positive   \n",
            "1                                                Great  Positive   \n",
            "2                             Horrible ID verification  Negative   \n",
            "3    Great hassle free way order contacts. Got call...  Positive   \n",
            "4    gets 1* there's ad every single level restart,...  Negative   \n",
            "..                                                 ...       ...   \n",
            "636  Totally unimpressed. We booking hotels Vietnam...  Negative   \n",
            "637  Bookings stopped showing app. Helpline useless...  Negative   \n",
            "638    7 days free trial asking credit card. Stupid!!!  Negative   \n",
            "639                                            running   Neutral   \n",
            "640  Incorrect listings. The agents show property d...  Positive   \n",
            "\n",
            "     Sentiment_Polarity  \n",
            "0                  13.0  \n",
            "1                   3.0  \n",
            "2                  -3.0  \n",
            "3                   4.0  \n",
            "4                  -2.0  \n",
            "..                  ...  \n",
            "636                -3.0  \n",
            "637                -2.0  \n",
            "638                -1.0  \n",
            "639                 0.0  \n",
            "640                 2.0  \n",
            "\n",
            "[641 rows x 4 columns]\n"
          ]
        }
      ]
    }
  ]
}