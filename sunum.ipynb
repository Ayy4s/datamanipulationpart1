{
  "nbformat": 4,
  "nbformat_minor": 0,
  "metadata": {
    "colab": {
      "provenance": [],
      "include_colab_link": true
    },
    "kernelspec": {
      "name": "python3",
      "display_name": "Python 3"
    },
    "language_info": {
      "name": "python"
    }
  },
  "cells": [
    {
      "cell_type": "markdown",
      "metadata": {
        "id": "view-in-github",
        "colab_type": "text"
      },
      "source": [
        "<a href=\"https://colab.research.google.com/github/Ayy4s/datamanipulationpart1/blob/main/sunum.ipynb\" target=\"_parent\"><img src=\"https://colab.research.google.com/assets/colab-badge.svg\" alt=\"Open In Colab\"/></a>"
      ]
    },
    {
      "cell_type": "code",
      "execution_count": null,
      "metadata": {
        "colab": {
          "base_uri": "https://localhost:8080/"
        },
        "id": "j_BYJaQrtEQq",
        "outputId": "5054b579-1676-4884-e115-ff6583ea92af"
      },
      "outputs": [
        {
          "output_type": "stream",
          "name": "stdout",
          "text": [
            "Collecting pyspark\n",
            "  Downloading pyspark-3.4.1.tar.gz (310.8 MB)\n",
            "\u001b[2K     \u001b[90m━━━━━━━━━━━━━━━━━━━━━━━━━━━━━━━━━━━━━━━\u001b[0m \u001b[32m310.8/310.8 MB\u001b[0m \u001b[31m2.5 MB/s\u001b[0m eta \u001b[36m0:00:00\u001b[0m\n",
            "\u001b[?25h  Preparing metadata (setup.py) ... \u001b[?25l\u001b[?25hdone\n",
            "Requirement already satisfied: py4j in /usr/local/lib/python3.10/dist-packages (0.10.9.7)\n",
            "Building wheels for collected packages: pyspark\n",
            "  Building wheel for pyspark (setup.py) ... \u001b[?25l\u001b[?25hdone\n",
            "  Created wheel for pyspark: filename=pyspark-3.4.1-py2.py3-none-any.whl size=311285387 sha256=c97ab04223a9862aab6ed4e4afeb544d6bcba09bc2e64f747953775db563a4ae\n",
            "  Stored in directory: /root/.cache/pip/wheels/0d/77/a3/ff2f74cc9ab41f8f594dabf0579c2a7c6de920d584206e0834\n",
            "Successfully built pyspark\n",
            "Installing collected packages: pyspark\n",
            "Successfully installed pyspark-3.4.1\n"
          ]
        }
      ],
      "source": [
        "! pip install pyspark py4j"
      ]
    },
    {
      "cell_type": "code",
      "source": [
        "from google.colab import drive\n",
        "drive.mount('/content/drive')"
      ],
      "metadata": {
        "id": "eanG0B5r4kTK"
      },
      "execution_count": null,
      "outputs": []
    },
    {
      "cell_type": "code",
      "source": [
        "! pip install findspark"
      ],
      "metadata": {
        "colab": {
          "base_uri": "https://localhost:8080/"
        },
        "id": "eg-HP0s5tHKU",
        "outputId": "84ef5899-9eaf-4120-bde2-d1a00b3f2e9b"
      },
      "execution_count": null,
      "outputs": [
        {
          "output_type": "stream",
          "name": "stdout",
          "text": [
            "Collecting findspark\n",
            "  Downloading findspark-2.0.1-py2.py3-none-any.whl (4.4 kB)\n",
            "Installing collected packages: findspark\n",
            "Successfully installed findspark-2.0.1\n"
          ]
        }
      ]
    },
    {
      "cell_type": "code",
      "source": [
        "import findspark\n",
        "findspark.init()"
      ],
      "metadata": {
        "id": "U0_RAc8CGZsu"
      },
      "execution_count": null,
      "outputs": []
    },
    {
      "cell_type": "code",
      "source": [
        "import pandas as pd\n",
        "import numpy as np\n",
        "from datetime import date, timedelta, datetime\n",
        "import time\n",
        "\n",
        "import pyspark\n",
        "from pyspark.sql import SparkSession, SQLContext\n",
        "from pyspark.context import SparkContext\n",
        "from pyspark.sql.functions import *\n",
        "from pyspark.sql.types import *"
      ],
      "metadata": {
        "id": "4MqErzz5GjhT"
      },
      "execution_count": null,
      "outputs": []
    },
    {
      "cell_type": "code",
      "source": [
        "sc = SparkSession.builder.master(\"local[*]\").appName(\"data6\").getOrCreate()\n"
      ],
      "metadata": {
        "id": "XMhbx8WNGmL_"
      },
      "execution_count": null,
      "outputs": []
    },
    {
      "cell_type": "code",
      "source": [
        "csv_file_path = \"/content/drive/MyDrive/ford_gobike_data.csv\"\n",
        "\n",
        "df = sc.read.option(\"header\", \"true\").csv(csv_file_path)"
      ],
      "metadata": {
        "id": "98LDNtr2Hme5"
      },
      "execution_count": null,
      "outputs": []
    },
    {
      "cell_type": "code",
      "source": [
        "sc"
      ],
      "metadata": {
        "colab": {
          "base_uri": "https://localhost:8080/",
          "height": 219
        },
        "id": "Fgc-y4PPFsK3",
        "outputId": "12f67e4a-2446-4f87-84ca-f5a0a3e04e4f"
      },
      "execution_count": null,
      "outputs": [
        {
          "output_type": "execute_result",
          "data": {
            "text/plain": [
              "<pyspark.sql.session.SparkSession at 0x7d510cf5e740>"
            ],
            "text/html": [
              "\n",
              "            <div>\n",
              "                <p><b>SparkSession - in-memory</b></p>\n",
              "                \n",
              "        <div>\n",
              "            <p><b>SparkContext</b></p>\n",
              "\n",
              "            <p><a href=\"http://f5a7de245a06:4040\">Spark UI</a></p>\n",
              "\n",
              "            <dl>\n",
              "              <dt>Version</dt>\n",
              "                <dd><code>v3.4.1</code></dd>\n",
              "              <dt>Master</dt>\n",
              "                <dd><code>local[*]</code></dd>\n",
              "              <dt>AppName</dt>\n",
              "                <dd><code>data6</code></dd>\n",
              "            </dl>\n",
              "        </div>\n",
              "        \n",
              "            </div>\n",
              "        "
            ]
          },
          "metadata": {},
          "execution_count": 11
        }
      ]
    },
    {
      "cell_type": "code",
      "source": [
        "df.show()"
      ],
      "metadata": {
        "colab": {
          "base_uri": "https://localhost:8080/"
        },
        "id": "YXWJt8X2uf0U",
        "outputId": "fc0a38ad-b1a0-48e7-aad5-e8b8df3e3044"
      },
      "execution_count": null,
      "outputs": [
        {
          "output_type": "stream",
          "name": "stdout",
          "text": [
            "+----------+-----------------+----------------+--------+---------------+--------------+----------------+--------------------+----------------------+-----------------------+--------------+--------------------+--------------------+---------------------+-------+----------+-----------------+-------------+-----------+------------------+-------------------+-------------------+----------------------+------------------+\n",
            "|start_time|start_time_second|start_time_am_pm|end_time|end_time_second|end_time_am_pm|start_station_id|  start_station_name|start_station_latitude|start_station_longitude|end_station_id|    end_station_name|end_station_latitude|end_station_longitude|bike_id| user_type|member_birth_year|member_gender|     pyment|          distance|     start_datetime|       end_datetime|time_difference_second|               fee|\n",
            "+----------+-----------------+----------------+--------+---------------+--------------+----------------+--------------------+----------------------+-----------------------+--------------+--------------------+--------------------+---------------------+-------+----------+-----------------+-------------+-----------+------------------+-------------------+-------------------+----------------------+------------------+\n",
            "|12/31/2017|          4:57:40|              PM|1/1/2018|        3:12:50|            PM|              74|Laguna St at Haye...|           37.77643482|            -122.426244|            43|San Francisco Pub...|          37.7787677|         -122.4159292|     96|  Customer|           1987.0|         Male|credit card|  942.930697721659|2017-12-31 16:57:40|2018-01-01 15:12:50|               80110.0|467.30833333333334|\n",
            "|12/31/2017|          3:56:35|              PM|1/1/2018|        1:49:56|            PM|             284|Yerba Buena Cente...|           37.78487208|           -122.4008757|            96|Dolores St at 15t...|          37.7662102|         -122.4266136|     88|  Customer|           1965.0|       Female|credit card|3069.7302088862857|2017-12-31 15:56:35|2018-01-01 13:49:56|               78801.0|459.67249999999996|\n",
            "|12/31/2017|         10:45:48|              PM|1/1/2018|       11:28:37|            AM|             245|Downtown Berkeley...|            37.8703477|           -122.2677637|           245|Downtown Berkeley...|          37.8703477|         -122.2677637|   1094|  Customer|             null|         null|credit card|               0.0|2017-12-31 22:45:48|2018-01-01 11:28:37|               45769.0|266.98583333333335|\n",
            "|12/31/2017|          5:31:11|              PM|1/1/2018|       10:47:24|            AM|              60|8th St at Ringold St|            37.7745204|           -122.4094494|             5|Powell St BART St...|         37.78389936|         -122.4084449|   2831|  Customer|             null|         null|credit card|1046.6240808449843|2017-12-31 17:31:11|2018-01-01 10:47:24|               62173.0|362.67583333333334|\n",
            "|12/31/2017|          2:23:14|              PM|1/1/2018|        2:29:58|            AM|             239|Bancroft Way at T...|            37.8688126|            -122.258764|           247|Fulton St at Banc...|          37.8677892|         -122.2658964|   3167|Subscriber|           1997.0|       Female| app wallet| 636.3402624770698|2017-12-31 14:23:14|2018-01-01 02:29:58|               43604.0|254.35666666666665|\n",
            "|12/31/2017|         10:51:01|              PM|1/1/2018|        1:24:47|            AM|              30|San Francisco Cal...|             37.776598|            -122.395282|            30|San Francisco Cal...|           37.776598|          -122.395282|   1487|  Customer|             null|         null| app wallet|               0.0|2017-12-31 22:51:01|2018-01-01 01:24:47|                9226.0|53.818333333333335|\n",
            "|12/31/2017|         11:49:28|              PM|1/1/2018|        1:04:36|            AM|             259|Addison St at Fou...|             37.866249|           -122.2993708|           259|Addison St at Fou...|           37.866249|         -122.2993708|   3539|  Customer|           1991.0|       Female| app wallet|               0.0|2017-12-31 23:49:28|2018-01-01 01:04:36|                4508.0|26.296666666666667|\n",
            "|12/31/2017|         11:46:37|              PM|1/1/2018|       12:58:51|            AM|             284|Yerba Buena Cente...|           37.78487208|           -122.4008757|           284|Yerba Buena Cente...|         37.78487208|         -122.4008757|   1503|  Customer|             null|         null| app wallet|               0.0|2017-12-31 23:46:37|2018-01-01 00:58:51|                4334.0|25.281666666666666|\n",
            "|12/31/2017|         11:37:08|              PM|1/1/2018|       12:46:18|            AM|              20|Mechanics Monumen...|               37.7913|            -122.399051|            20|Mechanics Monumen...|             37.7913|          -122.399051|   3125|  Customer|             null|         null| app wallet|               0.0|2017-12-31 23:37:08|2018-01-01 00:46:18|                4150.0|24.208333333333332|\n",
            "|12/31/2017|         11:35:38|              PM|1/1/2018|       12:46:17|            AM|              20|Mechanics Monumen...|               37.7913|            -122.399051|            20|Mechanics Monumen...|             37.7913|          -122.399051|   2543|  Customer|             null|         null| app wallet|               0.0|2017-12-31 23:35:38|2018-01-01 00:46:17|                4239.0|           24.7275|\n",
            "|12/31/2017|         11:46:32|              PM|1/1/2018|       12:41:25|            AM|             284|Yerba Buena Cente...|           37.78487208|           -122.4008757|            22|Howard St at Beal...|           37.789756|          -122.394643|   3058|  Customer|             null|         null|credit card| 771.3016224936289|2017-12-31 23:46:32|2018-01-01 00:41:25|                3293.0|19.209166666666665|\n",
            "|12/31/2017|         11:48:12|              PM|1/1/2018|       12:41:10|            AM|             284|Yerba Buena Cente...|           37.78487208|           -122.4008757|            22|Howard St at Beal...|           37.789756|          -122.394643|   3197|  Customer|             null|         null| app wallet| 771.3016224936289|2017-12-31 23:48:12|2018-01-01 00:41:10|                3178.0|18.538333333333334|\n",
            "|12/31/2017|         11:52:56|              PM|1/1/2018|       12:29:19|            AM|              67|San Francisco Cal...|            37.7766392|           -122.3955263|            24|Spear St at Folso...|          37.7896767|         -122.3904285|   2311|Subscriber|           1990.0|         Male|credit card|1517.3505177867091|2017-12-31 23:52:56|2018-01-01 00:29:19|                2183.0|12.734166666666665|\n",
            "|12/31/2017|         11:52:56|              PM|1/1/2018|       12:29:07|            AM|              67|San Francisco Cal...|            37.7766392|           -122.3955263|            24|Spear St at Folso...|          37.7896767|         -122.3904285|   3717|Subscriber|           1990.0|         Male| app wallet|1517.3505177867091|2017-12-31 23:52:56|2018-01-01 00:29:07|                2171.0|12.664166666666665|\n",
            "|12/31/2017|         11:35:23|              PM|1/1/2018|       12:20:21|            AM|              66|3rd St at Townsen...|           37.77874161|           -122.3927408|            23|The Embarcadero a...|           37.791464|          -122.391034|   3452|  Customer|             null|         null|credit card|1422.5965058298295|2017-12-31 23:35:23|2018-01-01 00:20:21|                2698.0|15.738333333333333|\n",
            "|12/31/2017|         11:53:39|              PM|1/1/2018|       12:19:23|            AM|              14|Clay St at Batter...|             37.795001|             -122.39997|            27|Beale St at Harri...|          37.7880593|         -122.3918648|    558|Subscriber|           1980.0|       Female|credit card|1050.2638042191502|2017-12-31 23:53:39|2018-01-01 00:19:23|                1544.0| 9.006666666666666|\n",
            "|12/31/2017|         11:54:40|              PM|1/1/2018|       12:19:14|            AM|              14|Clay St at Batter...|             37.795001|             -122.39997|            27|Beale St at Harri...|          37.7880593|         -122.3918648|   3646|Subscriber|           1979.0|         Male| app wallet|1050.2638042191502|2017-12-31 23:54:40|2018-01-01 00:19:14|                1474.0| 8.598333333333333|\n",
            "|12/31/2017|         11:55:10|              PM|1/1/2018|       12:18:27|            AM|              78| Folsom St at 9th St|            37.7737172|           -122.4116467|            15|San Francisco Fer...|           37.795392|          -122.394203|   1667|  Customer|             null|         null| app wallet| 2856.336787300353|2017-12-31 23:55:10|2018-01-01 00:18:27|                1397.0| 8.149166666666666|\n",
            "|12/31/2017|         11:52:49|              PM|1/1/2018|       12:18:22|            AM|              78| Folsom St at 9th St|            37.7737172|           -122.4116467|            15|San Francisco Fer...|           37.795392|          -122.394203|   3114|Subscriber|           1988.0|        Other| app wallet| 2856.336787300353|2017-12-31 23:52:49|2018-01-01 00:18:22|                1533.0| 8.942499999999999|\n",
            "|12/31/2017|         11:46:34|              PM|1/1/2018|       12:06:50|            AM|               4|Cyril Magnin St a...|           37.78588063|            -122.408915|           123|Folsom St at 19th St|          37.7605936|         -122.4148171|   1473|Subscriber|           1971.0|         Male|credit card| 2859.246009883312|2017-12-31 23:46:34|2018-01-01 00:06:50|                1216.0| 7.093333333333333|\n",
            "+----------+-----------------+----------------+--------+---------------+--------------+----------------+--------------------+----------------------+-----------------------+--------------+--------------------+--------------------+---------------------+-------+----------+-----------------+-------------+-----------+------------------+-------------------+-------------------+----------------------+------------------+\n",
            "only showing top 20 rows\n",
            "\n"
          ]
        }
      ]
    },
    {
      "cell_type": "code",
      "source": [
        "grouped_df = df.groupBy(\"user_type\").agg(sum(\"time_difference_second\"))\n",
        "grouped_df.show()"
      ],
      "metadata": {
        "colab": {
          "base_uri": "https://localhost:8080/"
        },
        "id": "WVPC6o2gzHqA",
        "outputId": "9ca5c77d-8b04-477a-dd91-f46b2bbec9b9"
      },
      "execution_count": null,
      "outputs": [
        {
          "output_type": "stream",
          "name": "stdout",
          "text": [
            "+----------+---------------------------+\n",
            "| user_type|sum(time_difference_second)|\n",
            "+----------+---------------------------+\n",
            "|Subscriber|               2.88830647E8|\n",
            "|  Customer|               2.82547043E8|\n",
            "+----------+---------------------------+\n",
            "\n"
          ]
        }
      ]
    },
    {
      "cell_type": "code",
      "source": [
        "mean_value = df.select(mean(\"time_difference_second\")).collect()[0][0]\n",
        "mean_value"
      ],
      "metadata": {
        "colab": {
          "base_uri": "https://localhost:8080/"
        },
        "id": "w7XKSQGV0nxx",
        "outputId": "c708b644-df3d-4bad-c0a4-1a0b6d500ff1"
      },
      "execution_count": null,
      "outputs": [
        {
          "output_type": "execute_result",
          "data": {
            "text/plain": [
              "1099.4375408889744"
            ]
          },
          "metadata": {},
          "execution_count": 14
        }
      ]
    },
    {
      "cell_type": "markdown",
      "source": [
        "20 min"
      ],
      "metadata": {
        "id": "LFiXLptQ2vsM"
      }
    },
    {
      "cell_type": "code",
      "source": [
        "total_count = df.agg(count(\"fee\")).collect()[0][0]\n",
        "total_count"
      ],
      "metadata": {
        "colab": {
          "base_uri": "https://localhost:8080/"
        },
        "id": "D-K7JfHq2e72",
        "outputId": "daf0ad16-226e-4a1e-8065-489a9a4d258e"
      },
      "execution_count": null,
      "outputs": [
        {
          "output_type": "execute_result",
          "data": {
            "text/plain": [
              "519700"
            ]
          },
          "metadata": {},
          "execution_count": 15
        }
      ]
    },
    {
      "cell_type": "code",
      "source": [
        "total_count_20 = df.filter(df[\"time_difference_second\"] > 1200)\n",
        "total_count_20.agg(count(\"fee\")).collect()[0][0]"
      ],
      "metadata": {
        "colab": {
          "base_uri": "https://localhost:8080/"
        },
        "id": "z-LVYNbW3A1r",
        "outputId": "a6a35638-9512-4b56-e146-a42005873db3"
      },
      "execution_count": null,
      "outputs": [
        {
          "output_type": "execute_result",
          "data": {
            "text/plain": [
              "82380"
            ]
          },
          "metadata": {},
          "execution_count": 16
        }
      ]
    },
    {
      "cell_type": "code",
      "source": [
        "total_count_20 = df.filter(df[\"time_difference_second\"] < 1200)\n",
        "total_count_20.agg(count(\"fee\")).collect()[0][0]"
      ],
      "metadata": {
        "colab": {
          "base_uri": "https://localhost:8080/"
        },
        "id": "gZtGPVa84YgA",
        "outputId": "e798066d-27ca-4f01-9a8f-b535aaf2e40b"
      },
      "execution_count": null,
      "outputs": [
        {
          "output_type": "execute_result",
          "data": {
            "text/plain": [
              "437187"
            ]
          },
          "metadata": {},
          "execution_count": 17
        }
      ]
    },
    {
      "cell_type": "markdown",
      "source": [
        " Identify the most popular routes by combining start and end station information and suggest potential improvements to the bike network based on these findings\n",
        "Seasonal usage patterns: Analyze the usage patterns across different seasons (spring, summer, fall, winter). This could help to determine if there are certain seasons where usage is significantly higher or lower."
      ],
      "metadata": {
        "id": "92JL9fGs5eHz"
      }
    },
    {
      "cell_type": "code",
      "source": [
        "df_with_new_column = df.withColumn(\"route\", concat_ws(\" - \", col(\"start_station_name\"), col(\"end_station_name\")))\n",
        "df_with_new_column.show()"
      ],
      "metadata": {
        "colab": {
          "base_uri": "https://localhost:8080/"
        },
        "id": "GzRjIb3K7q01",
        "outputId": "f72266fe-7eac-44db-be50-9ac5dfe18498"
      },
      "execution_count": null,
      "outputs": [
        {
          "output_type": "stream",
          "name": "stdout",
          "text": [
            "+----------+-----------------+----------------+--------+---------------+--------------+----------------+--------------------+----------------------+-----------------------+--------------+--------------------+--------------------+---------------------+-------+----------+-----------------+-------------+-----------+------------------+-------------------+-------------------+----------------------+------------------+--------------------+\n",
            "|start_time|start_time_second|start_time_am_pm|end_time|end_time_second|end_time_am_pm|start_station_id|  start_station_name|start_station_latitude|start_station_longitude|end_station_id|    end_station_name|end_station_latitude|end_station_longitude|bike_id| user_type|member_birth_year|member_gender|     pyment|          distance|     start_datetime|       end_datetime|time_difference_second|               fee|               route|\n",
            "+----------+-----------------+----------------+--------+---------------+--------------+----------------+--------------------+----------------------+-----------------------+--------------+--------------------+--------------------+---------------------+-------+----------+-----------------+-------------+-----------+------------------+-------------------+-------------------+----------------------+------------------+--------------------+\n",
            "|12/31/2017|          4:57:40|              PM|1/1/2018|        3:12:50|            PM|              74|Laguna St at Haye...|           37.77643482|            -122.426244|            43|San Francisco Pub...|          37.7787677|         -122.4159292|     96|  Customer|           1987.0|         Male|credit card|  942.930697721659|2017-12-31 16:57:40|2018-01-01 15:12:50|               80110.0|467.30833333333334|Laguna St at Haye...|\n",
            "|12/31/2017|          3:56:35|              PM|1/1/2018|        1:49:56|            PM|             284|Yerba Buena Cente...|           37.78487208|           -122.4008757|            96|Dolores St at 15t...|          37.7662102|         -122.4266136|     88|  Customer|           1965.0|       Female|credit card|3069.7302088862857|2017-12-31 15:56:35|2018-01-01 13:49:56|               78801.0|459.67249999999996|Yerba Buena Cente...|\n",
            "|12/31/2017|         10:45:48|              PM|1/1/2018|       11:28:37|            AM|             245|Downtown Berkeley...|            37.8703477|           -122.2677637|           245|Downtown Berkeley...|          37.8703477|         -122.2677637|   1094|  Customer|             null|         null|credit card|               0.0|2017-12-31 22:45:48|2018-01-01 11:28:37|               45769.0|266.98583333333335|Downtown Berkeley...|\n",
            "|12/31/2017|          5:31:11|              PM|1/1/2018|       10:47:24|            AM|              60|8th St at Ringold St|            37.7745204|           -122.4094494|             5|Powell St BART St...|         37.78389936|         -122.4084449|   2831|  Customer|             null|         null|credit card|1046.6240808449843|2017-12-31 17:31:11|2018-01-01 10:47:24|               62173.0|362.67583333333334|8th St at Ringold...|\n",
            "|12/31/2017|          2:23:14|              PM|1/1/2018|        2:29:58|            AM|             239|Bancroft Way at T...|            37.8688126|            -122.258764|           247|Fulton St at Banc...|          37.8677892|         -122.2658964|   3167|Subscriber|           1997.0|       Female| app wallet| 636.3402624770698|2017-12-31 14:23:14|2018-01-01 02:29:58|               43604.0|254.35666666666665|Bancroft Way at T...|\n",
            "|12/31/2017|         10:51:01|              PM|1/1/2018|        1:24:47|            AM|              30|San Francisco Cal...|             37.776598|            -122.395282|            30|San Francisco Cal...|           37.776598|          -122.395282|   1487|  Customer|             null|         null| app wallet|               0.0|2017-12-31 22:51:01|2018-01-01 01:24:47|                9226.0|53.818333333333335|San Francisco Cal...|\n",
            "|12/31/2017|         11:49:28|              PM|1/1/2018|        1:04:36|            AM|             259|Addison St at Fou...|             37.866249|           -122.2993708|           259|Addison St at Fou...|           37.866249|         -122.2993708|   3539|  Customer|           1991.0|       Female| app wallet|               0.0|2017-12-31 23:49:28|2018-01-01 01:04:36|                4508.0|26.296666666666667|Addison St at Fou...|\n",
            "|12/31/2017|         11:46:37|              PM|1/1/2018|       12:58:51|            AM|             284|Yerba Buena Cente...|           37.78487208|           -122.4008757|           284|Yerba Buena Cente...|         37.78487208|         -122.4008757|   1503|  Customer|             null|         null| app wallet|               0.0|2017-12-31 23:46:37|2018-01-01 00:58:51|                4334.0|25.281666666666666|Yerba Buena Cente...|\n",
            "|12/31/2017|         11:37:08|              PM|1/1/2018|       12:46:18|            AM|              20|Mechanics Monumen...|               37.7913|            -122.399051|            20|Mechanics Monumen...|             37.7913|          -122.399051|   3125|  Customer|             null|         null| app wallet|               0.0|2017-12-31 23:37:08|2018-01-01 00:46:18|                4150.0|24.208333333333332|Mechanics Monumen...|\n",
            "|12/31/2017|         11:35:38|              PM|1/1/2018|       12:46:17|            AM|              20|Mechanics Monumen...|               37.7913|            -122.399051|            20|Mechanics Monumen...|             37.7913|          -122.399051|   2543|  Customer|             null|         null| app wallet|               0.0|2017-12-31 23:35:38|2018-01-01 00:46:17|                4239.0|           24.7275|Mechanics Monumen...|\n",
            "|12/31/2017|         11:46:32|              PM|1/1/2018|       12:41:25|            AM|             284|Yerba Buena Cente...|           37.78487208|           -122.4008757|            22|Howard St at Beal...|           37.789756|          -122.394643|   3058|  Customer|             null|         null|credit card| 771.3016224936289|2017-12-31 23:46:32|2018-01-01 00:41:25|                3293.0|19.209166666666665|Yerba Buena Cente...|\n",
            "|12/31/2017|         11:48:12|              PM|1/1/2018|       12:41:10|            AM|             284|Yerba Buena Cente...|           37.78487208|           -122.4008757|            22|Howard St at Beal...|           37.789756|          -122.394643|   3197|  Customer|             null|         null| app wallet| 771.3016224936289|2017-12-31 23:48:12|2018-01-01 00:41:10|                3178.0|18.538333333333334|Yerba Buena Cente...|\n",
            "|12/31/2017|         11:52:56|              PM|1/1/2018|       12:29:19|            AM|              67|San Francisco Cal...|            37.7766392|           -122.3955263|            24|Spear St at Folso...|          37.7896767|         -122.3904285|   2311|Subscriber|           1990.0|         Male|credit card|1517.3505177867091|2017-12-31 23:52:56|2018-01-01 00:29:19|                2183.0|12.734166666666665|San Francisco Cal...|\n",
            "|12/31/2017|         11:52:56|              PM|1/1/2018|       12:29:07|            AM|              67|San Francisco Cal...|            37.7766392|           -122.3955263|            24|Spear St at Folso...|          37.7896767|         -122.3904285|   3717|Subscriber|           1990.0|         Male| app wallet|1517.3505177867091|2017-12-31 23:52:56|2018-01-01 00:29:07|                2171.0|12.664166666666665|San Francisco Cal...|\n",
            "|12/31/2017|         11:35:23|              PM|1/1/2018|       12:20:21|            AM|              66|3rd St at Townsen...|           37.77874161|           -122.3927408|            23|The Embarcadero a...|           37.791464|          -122.391034|   3452|  Customer|             null|         null|credit card|1422.5965058298295|2017-12-31 23:35:23|2018-01-01 00:20:21|                2698.0|15.738333333333333|3rd St at Townsen...|\n",
            "|12/31/2017|         11:53:39|              PM|1/1/2018|       12:19:23|            AM|              14|Clay St at Batter...|             37.795001|             -122.39997|            27|Beale St at Harri...|          37.7880593|         -122.3918648|    558|Subscriber|           1980.0|       Female|credit card|1050.2638042191502|2017-12-31 23:53:39|2018-01-01 00:19:23|                1544.0| 9.006666666666666|Clay St at Batter...|\n",
            "|12/31/2017|         11:54:40|              PM|1/1/2018|       12:19:14|            AM|              14|Clay St at Batter...|             37.795001|             -122.39997|            27|Beale St at Harri...|          37.7880593|         -122.3918648|   3646|Subscriber|           1979.0|         Male| app wallet|1050.2638042191502|2017-12-31 23:54:40|2018-01-01 00:19:14|                1474.0| 8.598333333333333|Clay St at Batter...|\n",
            "|12/31/2017|         11:55:10|              PM|1/1/2018|       12:18:27|            AM|              78| Folsom St at 9th St|            37.7737172|           -122.4116467|            15|San Francisco Fer...|           37.795392|          -122.394203|   1667|  Customer|             null|         null| app wallet| 2856.336787300353|2017-12-31 23:55:10|2018-01-01 00:18:27|                1397.0| 8.149166666666666|Folsom St at 9th ...|\n",
            "|12/31/2017|         11:52:49|              PM|1/1/2018|       12:18:22|            AM|              78| Folsom St at 9th St|            37.7737172|           -122.4116467|            15|San Francisco Fer...|           37.795392|          -122.394203|   3114|Subscriber|           1988.0|        Other| app wallet| 2856.336787300353|2017-12-31 23:52:49|2018-01-01 00:18:22|                1533.0| 8.942499999999999|Folsom St at 9th ...|\n",
            "|12/31/2017|         11:46:34|              PM|1/1/2018|       12:06:50|            AM|               4|Cyril Magnin St a...|           37.78588063|            -122.408915|           123|Folsom St at 19th St|          37.7605936|         -122.4148171|   1473|Subscriber|           1971.0|         Male|credit card| 2859.246009883312|2017-12-31 23:46:34|2018-01-01 00:06:50|                1216.0| 7.093333333333333|Cyril Magnin St a...|\n",
            "+----------+-----------------+----------------+--------+---------------+--------------+----------------+--------------------+----------------------+-----------------------+--------------+--------------------+--------------------+---------------------+-------+----------+-----------------+-------------+-----------+------------------+-------------------+-------------------+----------------------+------------------+--------------------+\n",
            "only showing top 20 rows\n",
            "\n"
          ]
        }
      ]
    },
    {
      "cell_type": "code",
      "source": [
        "route_grouped = df_with_new_column.groupBy(\"route\").agg(count(\"fee\").alias(\"total\"))\n",
        "route_grouped.show()"
      ],
      "metadata": {
        "colab": {
          "base_uri": "https://localhost:8080/"
        },
        "id": "BhmwDB6173kX",
        "outputId": "29f6ff24-b759-4dab-c14e-b1e362fb4685"
      },
      "execution_count": null,
      "outputs": [
        {
          "output_type": "stream",
          "name": "stdout",
          "text": [
            "+--------------------+-----+\n",
            "|               route|total|\n",
            "+--------------------+-----+\n",
            "|20th St at Bryant...|   55|\n",
            "|Commercial St at ...|   39|\n",
            "|47th St at San Pa...|    1|\n",
            "|Division St at Po...|  143|\n",
            "|18th St at Noe St...|   38|\n",
            "|Spear St at Folso...|   11|\n",
            "|2nd Ave at E 18th...|   68|\n",
            "|29th St at Tiffan...|   43|\n",
            "|Golden Gate Ave a...|    3|\n",
            "|5th St at Brannan...|  197|\n",
            "|Valencia St at 21...|   53|\n",
            "|Lakeshore Ave at ...|  104|\n",
            "|Golden Gate Ave a...|   68|\n",
            "|13th St at Frankl...|    1|\n",
            "|College Ave at Ha...|   26|\n",
            "|Union Square (Pow...|   23|\n",
            "|Fruitvale BART St...|    1|\n",
            "|Franklin St at 9t...|   44|\n",
            "|San Francisco Cit...|   10|\n",
            "|Powell St BART St...|   25|\n",
            "+--------------------+-----+\n",
            "only showing top 20 rows\n",
            "\n"
          ]
        }
      ]
    },
    {
      "cell_type": "code",
      "source": [
        "route_sorted = route_grouped.orderBy(col(\"total\").desc())\n",
        "route_sorted.show()"
      ],
      "metadata": {
        "colab": {
          "base_uri": "https://localhost:8080/"
        },
        "id": "bjqUjw2O8qwl",
        "outputId": "b2f97229-baba-4941-ce8c-dc5366ff704d"
      },
      "execution_count": null,
      "outputs": [
        {
          "output_type": "stream",
          "name": "stdout",
          "text": [
            "+--------------------+-----+\n",
            "|               route|total|\n",
            "+--------------------+-----+\n",
            "|San Francisco Fer...| 3344|\n",
            "|The Embarcadero a...| 1793|\n",
            "|The Embarcadero a...| 1734|\n",
            "|Berry St at 4th S...| 1686|\n",
            "|2nd St at S Park ...| 1509|\n",
            "|Montgomery St BAR...| 1485|\n",
            "|San Francisco Fer...| 1401|\n",
            "|Steuart St at Mar...| 1361|\n",
            "|2nd St at Townsen...| 1274|\n",
            "|19th Street BART ...| 1196|\n",
            "|The Embarcadero a...| 1190|\n",
            "|Howard St at Beal...| 1183|\n",
            "|Market St at 10th...| 1148|\n",
            "|San Francisco Fer...| 1105|\n",
            "|Howard St at 2nd ...| 1100|\n",
            "|Bay Pl at Vernon ...| 1054|\n",
            "|Grand Ave at Perk...| 1041|\n",
            "|The Embarcadero a...| 1037|\n",
            "|5th St at Howard ...| 1031|\n",
            "|Montgomery St BAR...|  987|\n",
            "+--------------------+-----+\n",
            "only showing top 20 rows\n",
            "\n"
          ]
        }
      ]
    },
    {
      "cell_type": "code",
      "source": [
        "route_sorted.write.csv(\"route_output.csv\", header=True, mode=\"overwrite\")"
      ],
      "metadata": {
        "id": "rn12WIS_6HdF"
      },
      "execution_count": null,
      "outputs": []
    },
    {
      "cell_type": "code",
      "source": [
        "data_df = df_with_new_column.withColumn(\"Month\", month(col(\"start_datetime\")))\n",
        "data_df.show()"
      ],
      "metadata": {
        "colab": {
          "base_uri": "https://localhost:8080/"
        },
        "id": "0WsknEW799Uo",
        "outputId": "03d51966-5d0d-4976-caf5-20629ac6e790"
      },
      "execution_count": null,
      "outputs": [
        {
          "output_type": "stream",
          "name": "stdout",
          "text": [
            "+----------+-----------------+----------------+--------+---------------+--------------+----------------+--------------------+----------------------+-----------------------+--------------+--------------------+--------------------+---------------------+-------+----------+-----------------+-------------+-----------+------------------+-------------------+-------------------+----------------------+------------------+--------------------+-----+\n",
            "|start_time|start_time_second|start_time_am_pm|end_time|end_time_second|end_time_am_pm|start_station_id|  start_station_name|start_station_latitude|start_station_longitude|end_station_id|    end_station_name|end_station_latitude|end_station_longitude|bike_id| user_type|member_birth_year|member_gender|     pyment|          distance|     start_datetime|       end_datetime|time_difference_second|               fee|               route|Month|\n",
            "+----------+-----------------+----------------+--------+---------------+--------------+----------------+--------------------+----------------------+-----------------------+--------------+--------------------+--------------------+---------------------+-------+----------+-----------------+-------------+-----------+------------------+-------------------+-------------------+----------------------+------------------+--------------------+-----+\n",
            "|12/31/2017|          4:57:40|              PM|1/1/2018|        3:12:50|            PM|              74|Laguna St at Haye...|           37.77643482|            -122.426244|            43|San Francisco Pub...|          37.7787677|         -122.4159292|     96|  Customer|           1987.0|         Male|credit card|  942.930697721659|2017-12-31 16:57:40|2018-01-01 15:12:50|               80110.0|467.30833333333334|Laguna St at Haye...|   12|\n",
            "|12/31/2017|          3:56:35|              PM|1/1/2018|        1:49:56|            PM|             284|Yerba Buena Cente...|           37.78487208|           -122.4008757|            96|Dolores St at 15t...|          37.7662102|         -122.4266136|     88|  Customer|           1965.0|       Female|credit card|3069.7302088862857|2017-12-31 15:56:35|2018-01-01 13:49:56|               78801.0|459.67249999999996|Yerba Buena Cente...|   12|\n",
            "|12/31/2017|         10:45:48|              PM|1/1/2018|       11:28:37|            AM|             245|Downtown Berkeley...|            37.8703477|           -122.2677637|           245|Downtown Berkeley...|          37.8703477|         -122.2677637|   1094|  Customer|             null|         null|credit card|               0.0|2017-12-31 22:45:48|2018-01-01 11:28:37|               45769.0|266.98583333333335|Downtown Berkeley...|   12|\n",
            "|12/31/2017|          5:31:11|              PM|1/1/2018|       10:47:24|            AM|              60|8th St at Ringold St|            37.7745204|           -122.4094494|             5|Powell St BART St...|         37.78389936|         -122.4084449|   2831|  Customer|             null|         null|credit card|1046.6240808449843|2017-12-31 17:31:11|2018-01-01 10:47:24|               62173.0|362.67583333333334|8th St at Ringold...|   12|\n",
            "|12/31/2017|          2:23:14|              PM|1/1/2018|        2:29:58|            AM|             239|Bancroft Way at T...|            37.8688126|            -122.258764|           247|Fulton St at Banc...|          37.8677892|         -122.2658964|   3167|Subscriber|           1997.0|       Female| app wallet| 636.3402624770698|2017-12-31 14:23:14|2018-01-01 02:29:58|               43604.0|254.35666666666665|Bancroft Way at T...|   12|\n",
            "|12/31/2017|         10:51:01|              PM|1/1/2018|        1:24:47|            AM|              30|San Francisco Cal...|             37.776598|            -122.395282|            30|San Francisco Cal...|           37.776598|          -122.395282|   1487|  Customer|             null|         null| app wallet|               0.0|2017-12-31 22:51:01|2018-01-01 01:24:47|                9226.0|53.818333333333335|San Francisco Cal...|   12|\n",
            "|12/31/2017|         11:49:28|              PM|1/1/2018|        1:04:36|            AM|             259|Addison St at Fou...|             37.866249|           -122.2993708|           259|Addison St at Fou...|           37.866249|         -122.2993708|   3539|  Customer|           1991.0|       Female| app wallet|               0.0|2017-12-31 23:49:28|2018-01-01 01:04:36|                4508.0|26.296666666666667|Addison St at Fou...|   12|\n",
            "|12/31/2017|         11:46:37|              PM|1/1/2018|       12:58:51|            AM|             284|Yerba Buena Cente...|           37.78487208|           -122.4008757|           284|Yerba Buena Cente...|         37.78487208|         -122.4008757|   1503|  Customer|             null|         null| app wallet|               0.0|2017-12-31 23:46:37|2018-01-01 00:58:51|                4334.0|25.281666666666666|Yerba Buena Cente...|   12|\n",
            "|12/31/2017|         11:37:08|              PM|1/1/2018|       12:46:18|            AM|              20|Mechanics Monumen...|               37.7913|            -122.399051|            20|Mechanics Monumen...|             37.7913|          -122.399051|   3125|  Customer|             null|         null| app wallet|               0.0|2017-12-31 23:37:08|2018-01-01 00:46:18|                4150.0|24.208333333333332|Mechanics Monumen...|   12|\n",
            "|12/31/2017|         11:35:38|              PM|1/1/2018|       12:46:17|            AM|              20|Mechanics Monumen...|               37.7913|            -122.399051|            20|Mechanics Monumen...|             37.7913|          -122.399051|   2543|  Customer|             null|         null| app wallet|               0.0|2017-12-31 23:35:38|2018-01-01 00:46:17|                4239.0|           24.7275|Mechanics Monumen...|   12|\n",
            "|12/31/2017|         11:46:32|              PM|1/1/2018|       12:41:25|            AM|             284|Yerba Buena Cente...|           37.78487208|           -122.4008757|            22|Howard St at Beal...|           37.789756|          -122.394643|   3058|  Customer|             null|         null|credit card| 771.3016224936289|2017-12-31 23:46:32|2018-01-01 00:41:25|                3293.0|19.209166666666665|Yerba Buena Cente...|   12|\n",
            "|12/31/2017|         11:48:12|              PM|1/1/2018|       12:41:10|            AM|             284|Yerba Buena Cente...|           37.78487208|           -122.4008757|            22|Howard St at Beal...|           37.789756|          -122.394643|   3197|  Customer|             null|         null| app wallet| 771.3016224936289|2017-12-31 23:48:12|2018-01-01 00:41:10|                3178.0|18.538333333333334|Yerba Buena Cente...|   12|\n",
            "|12/31/2017|         11:52:56|              PM|1/1/2018|       12:29:19|            AM|              67|San Francisco Cal...|            37.7766392|           -122.3955263|            24|Spear St at Folso...|          37.7896767|         -122.3904285|   2311|Subscriber|           1990.0|         Male|credit card|1517.3505177867091|2017-12-31 23:52:56|2018-01-01 00:29:19|                2183.0|12.734166666666665|San Francisco Cal...|   12|\n",
            "|12/31/2017|         11:52:56|              PM|1/1/2018|       12:29:07|            AM|              67|San Francisco Cal...|            37.7766392|           -122.3955263|            24|Spear St at Folso...|          37.7896767|         -122.3904285|   3717|Subscriber|           1990.0|         Male| app wallet|1517.3505177867091|2017-12-31 23:52:56|2018-01-01 00:29:07|                2171.0|12.664166666666665|San Francisco Cal...|   12|\n",
            "|12/31/2017|         11:35:23|              PM|1/1/2018|       12:20:21|            AM|              66|3rd St at Townsen...|           37.77874161|           -122.3927408|            23|The Embarcadero a...|           37.791464|          -122.391034|   3452|  Customer|             null|         null|credit card|1422.5965058298295|2017-12-31 23:35:23|2018-01-01 00:20:21|                2698.0|15.738333333333333|3rd St at Townsen...|   12|\n",
            "|12/31/2017|         11:53:39|              PM|1/1/2018|       12:19:23|            AM|              14|Clay St at Batter...|             37.795001|             -122.39997|            27|Beale St at Harri...|          37.7880593|         -122.3918648|    558|Subscriber|           1980.0|       Female|credit card|1050.2638042191502|2017-12-31 23:53:39|2018-01-01 00:19:23|                1544.0| 9.006666666666666|Clay St at Batter...|   12|\n",
            "|12/31/2017|         11:54:40|              PM|1/1/2018|       12:19:14|            AM|              14|Clay St at Batter...|             37.795001|             -122.39997|            27|Beale St at Harri...|          37.7880593|         -122.3918648|   3646|Subscriber|           1979.0|         Male| app wallet|1050.2638042191502|2017-12-31 23:54:40|2018-01-01 00:19:14|                1474.0| 8.598333333333333|Clay St at Batter...|   12|\n",
            "|12/31/2017|         11:55:10|              PM|1/1/2018|       12:18:27|            AM|              78| Folsom St at 9th St|            37.7737172|           -122.4116467|            15|San Francisco Fer...|           37.795392|          -122.394203|   1667|  Customer|             null|         null| app wallet| 2856.336787300353|2017-12-31 23:55:10|2018-01-01 00:18:27|                1397.0| 8.149166666666666|Folsom St at 9th ...|   12|\n",
            "|12/31/2017|         11:52:49|              PM|1/1/2018|       12:18:22|            AM|              78| Folsom St at 9th St|            37.7737172|           -122.4116467|            15|San Francisco Fer...|           37.795392|          -122.394203|   3114|Subscriber|           1988.0|        Other| app wallet| 2856.336787300353|2017-12-31 23:52:49|2018-01-01 00:18:22|                1533.0| 8.942499999999999|Folsom St at 9th ...|   12|\n",
            "|12/31/2017|         11:46:34|              PM|1/1/2018|       12:06:50|            AM|               4|Cyril Magnin St a...|           37.78588063|            -122.408915|           123|Folsom St at 19th St|          37.7605936|         -122.4148171|   1473|Subscriber|           1971.0|         Male|credit card| 2859.246009883312|2017-12-31 23:46:34|2018-01-01 00:06:50|                1216.0| 7.093333333333333|Cyril Magnin St a...|   12|\n",
            "+----------+-----------------+----------------+--------+---------------+--------------+----------------+--------------------+----------------------+-----------------------+--------------+--------------------+--------------------+---------------------+-------+----------+-----------------+-------------+-----------+------------------+-------------------+-------------------+----------------------+------------------+--------------------+-----+\n",
            "only showing top 20 rows\n",
            "\n"
          ]
        }
      ]
    },
    {
      "cell_type": "code",
      "source": [
        "from pyspark.sql.functions import month, when\n",
        "\n",
        "trip_data = df_with_new_column.withColumn(\n",
        "    \"season\",\n",
        "    when((month(\"start_datetime\") >= 12) | (month(\"start_datetime\") <= 2), \"Winter\")\n",
        "    .when((month(\"start_datetime\") >= 3) & (month(\"start_datetime\") <= 5), \"Spring\")\n",
        "    .when((month(\"start_datetime\") >= 6) & (month(\"start_datetime\") <= 8), \"Summer\")\n",
        "    .when((month(\"start_datetime\") >= 9) & (month(\"start_datetime\") <= 11), \"Fall\")\n",
        "    .otherwise(\"Unknown\")\n",
        ")\n",
        "trip_data.show()\n"
      ],
      "metadata": {
        "id": "AAHij3GYBjvk",
        "colab": {
          "base_uri": "https://localhost:8080/"
        },
        "outputId": "debf51bf-ed22-4de2-ff8d-4f44e8041017"
      },
      "execution_count": null,
      "outputs": [
        {
          "output_type": "stream",
          "name": "stdout",
          "text": [
            "+----------+-----------------+----------------+--------+---------------+--------------+----------------+--------------------+----------------------+-----------------------+--------------+--------------------+--------------------+---------------------+-------+----------+-----------------+-------------+-----------+------------------+-------------------+-------------------+----------------------+------------------+--------------------+------+\n",
            "|start_time|start_time_second|start_time_am_pm|end_time|end_time_second|end_time_am_pm|start_station_id|  start_station_name|start_station_latitude|start_station_longitude|end_station_id|    end_station_name|end_station_latitude|end_station_longitude|bike_id| user_type|member_birth_year|member_gender|     pyment|          distance|     start_datetime|       end_datetime|time_difference_second|               fee|               route|season|\n",
            "+----------+-----------------+----------------+--------+---------------+--------------+----------------+--------------------+----------------------+-----------------------+--------------+--------------------+--------------------+---------------------+-------+----------+-----------------+-------------+-----------+------------------+-------------------+-------------------+----------------------+------------------+--------------------+------+\n",
            "|12/31/2017|          4:57:40|              PM|1/1/2018|        3:12:50|            PM|              74|Laguna St at Haye...|           37.77643482|            -122.426244|            43|San Francisco Pub...|          37.7787677|         -122.4159292|     96|  Customer|           1987.0|         Male|credit card|  942.930697721659|2017-12-31 16:57:40|2018-01-01 15:12:50|               80110.0|467.30833333333334|Laguna St at Haye...|Winter|\n",
            "|12/31/2017|          3:56:35|              PM|1/1/2018|        1:49:56|            PM|             284|Yerba Buena Cente...|           37.78487208|           -122.4008757|            96|Dolores St at 15t...|          37.7662102|         -122.4266136|     88|  Customer|           1965.0|       Female|credit card|3069.7302088862857|2017-12-31 15:56:35|2018-01-01 13:49:56|               78801.0|459.67249999999996|Yerba Buena Cente...|Winter|\n",
            "|12/31/2017|         10:45:48|              PM|1/1/2018|       11:28:37|            AM|             245|Downtown Berkeley...|            37.8703477|           -122.2677637|           245|Downtown Berkeley...|          37.8703477|         -122.2677637|   1094|  Customer|             null|         null|credit card|               0.0|2017-12-31 22:45:48|2018-01-01 11:28:37|               45769.0|266.98583333333335|Downtown Berkeley...|Winter|\n",
            "|12/31/2017|          5:31:11|              PM|1/1/2018|       10:47:24|            AM|              60|8th St at Ringold St|            37.7745204|           -122.4094494|             5|Powell St BART St...|         37.78389936|         -122.4084449|   2831|  Customer|             null|         null|credit card|1046.6240808449843|2017-12-31 17:31:11|2018-01-01 10:47:24|               62173.0|362.67583333333334|8th St at Ringold...|Winter|\n",
            "|12/31/2017|          2:23:14|              PM|1/1/2018|        2:29:58|            AM|             239|Bancroft Way at T...|            37.8688126|            -122.258764|           247|Fulton St at Banc...|          37.8677892|         -122.2658964|   3167|Subscriber|           1997.0|       Female| app wallet| 636.3402624770698|2017-12-31 14:23:14|2018-01-01 02:29:58|               43604.0|254.35666666666665|Bancroft Way at T...|Winter|\n",
            "|12/31/2017|         10:51:01|              PM|1/1/2018|        1:24:47|            AM|              30|San Francisco Cal...|             37.776598|            -122.395282|            30|San Francisco Cal...|           37.776598|          -122.395282|   1487|  Customer|             null|         null| app wallet|               0.0|2017-12-31 22:51:01|2018-01-01 01:24:47|                9226.0|53.818333333333335|San Francisco Cal...|Winter|\n",
            "|12/31/2017|         11:49:28|              PM|1/1/2018|        1:04:36|            AM|             259|Addison St at Fou...|             37.866249|           -122.2993708|           259|Addison St at Fou...|           37.866249|         -122.2993708|   3539|  Customer|           1991.0|       Female| app wallet|               0.0|2017-12-31 23:49:28|2018-01-01 01:04:36|                4508.0|26.296666666666667|Addison St at Fou...|Winter|\n",
            "|12/31/2017|         11:46:37|              PM|1/1/2018|       12:58:51|            AM|             284|Yerba Buena Cente...|           37.78487208|           -122.4008757|           284|Yerba Buena Cente...|         37.78487208|         -122.4008757|   1503|  Customer|             null|         null| app wallet|               0.0|2017-12-31 23:46:37|2018-01-01 00:58:51|                4334.0|25.281666666666666|Yerba Buena Cente...|Winter|\n",
            "|12/31/2017|         11:37:08|              PM|1/1/2018|       12:46:18|            AM|              20|Mechanics Monumen...|               37.7913|            -122.399051|            20|Mechanics Monumen...|             37.7913|          -122.399051|   3125|  Customer|             null|         null| app wallet|               0.0|2017-12-31 23:37:08|2018-01-01 00:46:18|                4150.0|24.208333333333332|Mechanics Monumen...|Winter|\n",
            "|12/31/2017|         11:35:38|              PM|1/1/2018|       12:46:17|            AM|              20|Mechanics Monumen...|               37.7913|            -122.399051|            20|Mechanics Monumen...|             37.7913|          -122.399051|   2543|  Customer|             null|         null| app wallet|               0.0|2017-12-31 23:35:38|2018-01-01 00:46:17|                4239.0|           24.7275|Mechanics Monumen...|Winter|\n",
            "|12/31/2017|         11:46:32|              PM|1/1/2018|       12:41:25|            AM|             284|Yerba Buena Cente...|           37.78487208|           -122.4008757|            22|Howard St at Beal...|           37.789756|          -122.394643|   3058|  Customer|             null|         null|credit card| 771.3016224936289|2017-12-31 23:46:32|2018-01-01 00:41:25|                3293.0|19.209166666666665|Yerba Buena Cente...|Winter|\n",
            "|12/31/2017|         11:48:12|              PM|1/1/2018|       12:41:10|            AM|             284|Yerba Buena Cente...|           37.78487208|           -122.4008757|            22|Howard St at Beal...|           37.789756|          -122.394643|   3197|  Customer|             null|         null| app wallet| 771.3016224936289|2017-12-31 23:48:12|2018-01-01 00:41:10|                3178.0|18.538333333333334|Yerba Buena Cente...|Winter|\n",
            "|12/31/2017|         11:52:56|              PM|1/1/2018|       12:29:19|            AM|              67|San Francisco Cal...|            37.7766392|           -122.3955263|            24|Spear St at Folso...|          37.7896767|         -122.3904285|   2311|Subscriber|           1990.0|         Male|credit card|1517.3505177867091|2017-12-31 23:52:56|2018-01-01 00:29:19|                2183.0|12.734166666666665|San Francisco Cal...|Winter|\n",
            "|12/31/2017|         11:52:56|              PM|1/1/2018|       12:29:07|            AM|              67|San Francisco Cal...|            37.7766392|           -122.3955263|            24|Spear St at Folso...|          37.7896767|         -122.3904285|   3717|Subscriber|           1990.0|         Male| app wallet|1517.3505177867091|2017-12-31 23:52:56|2018-01-01 00:29:07|                2171.0|12.664166666666665|San Francisco Cal...|Winter|\n",
            "|12/31/2017|         11:35:23|              PM|1/1/2018|       12:20:21|            AM|              66|3rd St at Townsen...|           37.77874161|           -122.3927408|            23|The Embarcadero a...|           37.791464|          -122.391034|   3452|  Customer|             null|         null|credit card|1422.5965058298295|2017-12-31 23:35:23|2018-01-01 00:20:21|                2698.0|15.738333333333333|3rd St at Townsen...|Winter|\n",
            "|12/31/2017|         11:53:39|              PM|1/1/2018|       12:19:23|            AM|              14|Clay St at Batter...|             37.795001|             -122.39997|            27|Beale St at Harri...|          37.7880593|         -122.3918648|    558|Subscriber|           1980.0|       Female|credit card|1050.2638042191502|2017-12-31 23:53:39|2018-01-01 00:19:23|                1544.0| 9.006666666666666|Clay St at Batter...|Winter|\n",
            "|12/31/2017|         11:54:40|              PM|1/1/2018|       12:19:14|            AM|              14|Clay St at Batter...|             37.795001|             -122.39997|            27|Beale St at Harri...|          37.7880593|         -122.3918648|   3646|Subscriber|           1979.0|         Male| app wallet|1050.2638042191502|2017-12-31 23:54:40|2018-01-01 00:19:14|                1474.0| 8.598333333333333|Clay St at Batter...|Winter|\n",
            "|12/31/2017|         11:55:10|              PM|1/1/2018|       12:18:27|            AM|              78| Folsom St at 9th St|            37.7737172|           -122.4116467|            15|San Francisco Fer...|           37.795392|          -122.394203|   1667|  Customer|             null|         null| app wallet| 2856.336787300353|2017-12-31 23:55:10|2018-01-01 00:18:27|                1397.0| 8.149166666666666|Folsom St at 9th ...|Winter|\n",
            "|12/31/2017|         11:52:49|              PM|1/1/2018|       12:18:22|            AM|              78| Folsom St at 9th St|            37.7737172|           -122.4116467|            15|San Francisco Fer...|           37.795392|          -122.394203|   3114|Subscriber|           1988.0|        Other| app wallet| 2856.336787300353|2017-12-31 23:52:49|2018-01-01 00:18:22|                1533.0| 8.942499999999999|Folsom St at 9th ...|Winter|\n",
            "|12/31/2017|         11:46:34|              PM|1/1/2018|       12:06:50|            AM|               4|Cyril Magnin St a...|           37.78588063|            -122.408915|           123|Folsom St at 19th St|          37.7605936|         -122.4148171|   1473|Subscriber|           1971.0|         Male|credit card| 2859.246009883312|2017-12-31 23:46:34|2018-01-01 00:06:50|                1216.0| 7.093333333333333|Cyril Magnin St a...|Winter|\n",
            "+----------+-----------------+----------------+--------+---------------+--------------+----------------+--------------------+----------------------+-----------------------+--------------+--------------------+--------------------+---------------------+-------+----------+-----------------+-------------+-----------+------------------+-------------------+-------------------+----------------------+------------------+--------------------+------+\n",
            "only showing top 20 rows\n",
            "\n"
          ]
        }
      ]
    },
    {
      "cell_type": "code",
      "source": [
        "gb_data = trip_data.groupBy(\"season\").agg(count(\"fee\"))\n",
        "gb_data.show()"
      ],
      "metadata": {
        "colab": {
          "base_uri": "https://localhost:8080/"
        },
        "id": "BVjvRrorC5Zg",
        "outputId": "961aaf06-b99c-4f42-c6de-8c9aecb032a9"
      },
      "execution_count": null,
      "outputs": [
        {
          "output_type": "stream",
          "name": "stdout",
          "text": [
            "+------+----------+\n",
            "|season|count(fee)|\n",
            "+------+----------+\n",
            "|  Fall|    303107|\n",
            "|Winter|     86539|\n",
            "|Summer|    130054|\n",
            "+------+----------+\n",
            "\n"
          ]
        }
      ]
    },
    {
      "cell_type": "markdown",
      "source": [
        "Identify \"dead-zones\": Determine if there are certain end stations where bikes tend to accumulate and from where they are rarely rented again. These could be areas where users frequently end their trips but rarely start new ones."
      ],
      "metadata": {
        "id": "rD2LLPQtDlP0"
      }
    },
    {
      "cell_type": "code",
      "source": [
        "start_gb = df.groupBy(\"start_station_id\").agg(count(\"fee\").alias(\"start_total\"))\n",
        "end_gb = df.groupBy(\"end_station_id\").agg(count(\"fee\").alias(\"end_total\"))"
      ],
      "metadata": {
        "id": "u--jVhB0Dht7"
      },
      "execution_count": null,
      "outputs": []
    },
    {
      "cell_type": "code",
      "source": [
        "merged_df = start_gb.join(end_gb, start_gb[\"start_station_id\"] == end_gb[\"end_station_id\"], \"outer\")\n",
        "merged_df.show()"
      ],
      "metadata": {
        "colab": {
          "base_uri": "https://localhost:8080/"
        },
        "id": "Ko0bNfmbEr2F",
        "outputId": "bd908031-712b-4731-b302-f0ae390f7238"
      },
      "execution_count": null,
      "outputs": [
        {
          "output_type": "stream",
          "name": "stdout",
          "text": [
            "+----------------+-----------+--------------+---------+\n",
            "|start_station_id|start_total|end_station_id|end_total|\n",
            "+----------------+-----------+--------------+---------+\n",
            "|              10|       2310|            10|     2696|\n",
            "|             100|       1567|           100|     1541|\n",
            "|             101|        873|           101|      929|\n",
            "|             102|       1071|           102|     1375|\n",
            "|             105|       1481|           105|      889|\n",
            "|             106|       1100|           106|      976|\n",
            "|             107|       1607|           107|     1355|\n",
            "|             108|        925|           108|      991|\n",
            "|             109|       3053|           109|     3214|\n",
            "|              11|       3474|            11|     3893|\n",
            "|             110|       1021|           110|     1123|\n",
            "|             112|       2147|           112|     2783|\n",
            "|             113|       1133|           113|      889|\n",
            "|             114|       2516|           114|     2676|\n",
            "|             115|       1624|           115|     1797|\n",
            "|             116|       2001|           116|     2005|\n",
            "|             118|        416|           118|      281|\n",
            "|             119|       2266|           119|     2330|\n",
            "|             120|       2444|           120|     2625|\n",
            "|             121|       2636|           121|     2977|\n",
            "+----------------+-----------+--------------+---------+\n",
            "only showing top 20 rows\n",
            "\n"
          ]
        }
      ]
    },
    {
      "cell_type": "code",
      "source": [
        "merged_df = merged_df.withColumn(\"ratio\", (col(\"end_total\") / col(\"start_total\")))\n",
        "merged_df.show()"
      ],
      "metadata": {
        "colab": {
          "base_uri": "https://localhost:8080/"
        },
        "id": "HeF3M5rWFFcF",
        "outputId": "460d3760-6562-4e6e-be41-6cc997065bc1"
      },
      "execution_count": null,
      "outputs": [
        {
          "output_type": "stream",
          "name": "stdout",
          "text": [
            "+----------------+-----------+--------------+---------+------------------+\n",
            "|start_station_id|start_total|end_station_id|end_total|             ratio|\n",
            "+----------------+-----------+--------------+---------+------------------+\n",
            "|              10|       2310|            10|     2696|1.1670995670995672|\n",
            "|             100|       1567|           100|     1541|0.9834077855775367|\n",
            "|             101|        873|           101|      929|1.0641466208476518|\n",
            "|             102|       1071|           102|     1375|1.2838468720821663|\n",
            "|             105|       1481|           105|      889| 0.600270087778528|\n",
            "|             106|       1100|           106|      976|0.8872727272727273|\n",
            "|             107|       1607|           107|     1355|0.8431860609831985|\n",
            "|             108|        925|           108|      991|1.0713513513513513|\n",
            "|             109|       3053|           109|     3214|1.0527350147396004|\n",
            "|              11|       3474|            11|     3893|1.1206102475532527|\n",
            "|             110|       1021|           110|     1123|1.0999020568070519|\n",
            "|             112|       2147|           112|     2783| 1.296227293898463|\n",
            "|             113|       1133|           113|      889|0.7846425419240953|\n",
            "|             114|       2516|           114|     2676|1.0635930047694753|\n",
            "|             115|       1624|           115|     1797|1.1065270935960592|\n",
            "|             116|       2001|           116|     2005|  1.00199900049975|\n",
            "|             118|        416|           118|      281|0.6754807692307693|\n",
            "|             119|       2266|           119|     2330|1.0282436010591351|\n",
            "|             120|       2444|           120|     2625|1.0740589198036006|\n",
            "|             121|       2636|           121|     2977|1.1293626707132018|\n",
            "+----------------+-----------+--------------+---------+------------------+\n",
            "only showing top 20 rows\n",
            "\n"
          ]
        }
      ]
    },
    {
      "cell_type": "code",
      "source": [
        "ordered_df = merged_df.orderBy(col(\"ratio\").desc())\n",
        "ordered_df.show()"
      ],
      "metadata": {
        "colab": {
          "base_uri": "https://localhost:8080/"
        },
        "id": "rSP4wYDSFFXf",
        "outputId": "de751e91-892a-41dc-ecdd-e314865f5910"
      },
      "execution_count": null,
      "outputs": [
        {
          "output_type": "stream",
          "name": "stdout",
          "text": [
            "+----------------+-----------+--------------+---------+------------------+\n",
            "|start_station_id|start_total|end_station_id|end_total|             ratio|\n",
            "+----------------+-----------+--------------+---------+------------------+\n",
            "|             268|          1|           268|        2|               2.0|\n",
            "|             157|        617|           157|     1021|1.6547811993517019|\n",
            "|             151|        149|           151|      234| 1.570469798657718|\n",
            "|             247|        739|           247|     1118|1.5128552097428958|\n",
            "|             339|          2|           339|        3|               1.5|\n",
            "|             226|         41|           226|       61|1.4878048780487805|\n",
            "|             245|       1667|           245|     2342|1.4049190161967606|\n",
            "|             263|         35|           263|       49|               1.4|\n",
            "|              30|      12546|            30|    17378|1.3851426749561613|\n",
            "|             131|         47|           131|       63|1.3404255319148937|\n",
            "|             259|        185|           259|      246|1.3297297297297297|\n",
            "|             224|         54|           224|       71|1.3148148148148149|\n",
            "|             337|         37|           337|       48|1.2972972972972974|\n",
            "|             112|       2147|           112|     2783| 1.296227293898463|\n",
            "|             102|       1071|           102|     1375|1.2838468720821663|\n",
            "|             222|        194|           222|      248|1.2783505154639174|\n",
            "|             300|         29|           300|       37|1.2758620689655173|\n",
            "|             215|        231|           215|      293|1.2683982683982684|\n",
            "|             293|         15|           293|       19|1.2666666666666666|\n",
            "|             202|        757|           202|      953|1.2589167767503302|\n",
            "+----------------+-----------+--------------+---------+------------------+\n",
            "only showing top 20 rows\n",
            "\n"
          ]
        }
      ]
    }
  ]
}