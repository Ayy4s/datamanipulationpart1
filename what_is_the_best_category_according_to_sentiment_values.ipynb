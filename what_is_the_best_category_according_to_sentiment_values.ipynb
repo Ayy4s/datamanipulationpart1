{
  "nbformat": 4,
  "nbformat_minor": 0,
  "metadata": {
    "colab": {
      "provenance": [],
      "authorship_tag": "ABX9TyNfVlR5MdHiVXo+5TDnZeSZ",
      "include_colab_link": true
    },
    "kernelspec": {
      "name": "python3",
      "display_name": "Python 3"
    },
    "language_info": {
      "name": "python"
    }
  },
  "cells": [
    {
      "cell_type": "markdown",
      "metadata": {
        "id": "view-in-github",
        "colab_type": "text"
      },
      "source": [
        "<a href=\"https://colab.research.google.com/github/Ayy4s/datamanipulationpart1/blob/main/what_is_the_best_category_according_to_sentiment_values.ipynb\" target=\"_parent\"><img src=\"https://colab.research.google.com/assets/colab-badge.svg\" alt=\"Open In Colab\"/></a>"
      ]
    },
    {
      "cell_type": "code",
      "execution_count": 2,
      "metadata": {
        "colab": {
          "base_uri": "https://localhost:8080/"
        },
        "id": "ozOY6AgIzTCR",
        "outputId": "a05c4be3-abf4-41e2-a2d4-32559b17fde1"
      },
      "outputs": [
        {
          "output_type": "stream",
          "name": "stdout",
          "text": [
            "Collecting afinn\n",
            "  Downloading afinn-0.1.tar.gz (52 kB)\n",
            "\u001b[?25l     \u001b[90m━━━━━━━━━━━━━━━━━━━━━━━━━━━━━━━━━━━━━━━━\u001b[0m \u001b[32m0.0/52.6 kB\u001b[0m \u001b[31m?\u001b[0m eta \u001b[36m-:--:--\u001b[0m\r\u001b[2K     \u001b[90m━━━━━━━━━━━━━━━━━━━━━━━━━━━━━━━━━━━━━━━━\u001b[0m \u001b[32m52.6/52.6 kB\u001b[0m \u001b[31m2.9 MB/s\u001b[0m eta \u001b[36m0:00:00\u001b[0m\n",
            "\u001b[?25h  Preparing metadata (setup.py) ... \u001b[?25l\u001b[?25hdone\n",
            "Building wheels for collected packages: afinn\n",
            "  Building wheel for afinn (setup.py) ... \u001b[?25l\u001b[?25hdone\n",
            "  Created wheel for afinn: filename=afinn-0.1-py3-none-any.whl size=53430 sha256=9a7a347a545463d20804153426a041d695b4ca19930b89c4cdfaa19f7af31294\n",
            "  Stored in directory: /root/.cache/pip/wheels/b0/05/90/43f79196199a138fb486902fceca30a2d1b5228e6d2db8eb90\n",
            "Successfully built afinn\n",
            "Installing collected packages: afinn\n",
            "Successfully installed afinn-0.1\n"
          ]
        }
      ],
      "source": [
        "pip install afinn\n"
      ]
    },
    {
      "cell_type": "code",
      "source": [
        "from afinn import Afinn\n",
        "import pandas as pd\n"
      ],
      "metadata": {
        "id": "PozX1vYezXra"
      },
      "execution_count": 3,
      "outputs": []
    },
    {
      "cell_type": "code",
      "source": [
        "df = pd.read_csv('/content/cleaned_playstore_reviews.csv')"
      ],
      "metadata": {
        "id": "A45_NGG8zUnZ"
      },
      "execution_count": 4,
      "outputs": []
    },
    {
      "cell_type": "code",
      "source": [
        "afinn = Afinn()\n"
      ],
      "metadata": {
        "id": "j3smetwjzeL_"
      },
      "execution_count": 5,
      "outputs": []
    },
    {
      "cell_type": "code",
      "source": [
        "def calculate_sentiment(text):\n",
        "    return afinn.score(text)\n"
      ],
      "metadata": {
        "id": "7HOoq8w6zf4W"
      },
      "execution_count": 6,
      "outputs": []
    },
    {
      "cell_type": "code",
      "source": [
        "df['Sentiment_Polarity'] = df['Translated_Review'].apply(calculate_sentiment)\n"
      ],
      "metadata": {
        "id": "gFiW2rF5zhlK"
      },
      "execution_count": 7,
      "outputs": []
    },
    {
      "cell_type": "code",
      "source": [
        "category_sentiment = df.groupby(['App', 'Sentiment'])['Sentiment_Polarity'].mean().reset_index()\n"
      ],
      "metadata": {
        "id": "36K5HlpfzjFR"
      },
      "execution_count": 8,
      "outputs": []
    },
    {
      "cell_type": "code",
      "source": [
        "category_sentiment_sorted = category_sentiment.sort_values(by='Sentiment_Polarity', ascending=False)\n"
      ],
      "metadata": {
        "id": "JxfSTOHSzkZV"
      },
      "execution_count": 9,
      "outputs": []
    },
    {
      "cell_type": "code",
      "source": [
        "best_category = category_sentiment_sorted.iloc[0]['App']\n",
        "print(\"The best category according to sentiment values is:\", best_category)\n"
      ],
      "metadata": {
        "colab": {
          "base_uri": "https://localhost:8080/"
        },
        "id": "zfgDGpm4zmCp",
        "outputId": "cd05306e-890d-4d1e-ed6f-ada96c2ce5de"
      },
      "execution_count": 10,
      "outputs": [
        {
          "output_type": "stream",
          "name": "stdout",
          "text": [
            "The best category according to sentiment values is: Hamilton — The Official App\n"
          ]
        }
      ]
    }
  ]
}