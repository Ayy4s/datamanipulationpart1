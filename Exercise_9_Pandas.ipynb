{
  "nbformat": 4,
  "nbformat_minor": 0,
  "metadata": {
    "colab": {
      "provenance": [],
      "authorship_tag": "ABX9TyPNLlNUSRqgY3xoaXyqqWWx",
      "include_colab_link": true
    },
    "kernelspec": {
      "name": "python3",
      "display_name": "Python 3"
    },
    "language_info": {
      "name": "python"
    }
  },
  "cells": [
    {
      "cell_type": "markdown",
      "metadata": {
        "id": "view-in-github",
        "colab_type": "text"
      },
      "source": [
        "<a href=\"https://colab.research.google.com/github/Ayy4s/datamanipulationpart1/blob/main/Exercise_9_Pandas.ipynb\" target=\"_parent\"><img src=\"https://colab.research.google.com/assets/colab-badge.svg\" alt=\"Open In Colab\"/></a>"
      ]
    },
    {
      "cell_type": "code",
      "execution_count": 1,
      "metadata": {
        "id": "OrKUp1ZLXJcJ"
      },
      "outputs": [],
      "source": [
        "import pandas as pd\n"
      ]
    },
    {
      "cell_type": "code",
      "source": [
        "student_data = pd.DataFrame({\n",
        "    'school_code': ['s001','s002','s003','s001','s002','s004'],\n",
        "    'class': ['V', 'V', 'VI', 'VI', 'V', 'VI'],\n",
        "    'name': ['Alberto Franco','Gino Mcneill','Ryan Parkes', 'Eesha Hinton', 'Gino Mcneill', 'David Parkes'],\n",
        "    'date_Of_Birth ': ['15/05/2002','17/05/2002','16/02/1999','25/09/1998','11/05/2002','15/09/1997'],\n",
        "    'age': [12, 12, 13, 13, 14, 12],\n",
        "    'height': [173, 192, 186, 167, 151, 159],\n",
        "    'weight': [35, 32, 33, 30, 31, 32],\n",
        "    'address': ['street1', 'street2', 'street3', 'street1', 'street2', 'street4']},\n",
        "    index=['S1', 'S2', 'S3', 'S4', 'S5', 'S6'])"
      ],
      "metadata": {
        "id": "OvzyUcMYXPMz"
      },
      "execution_count": 2,
      "outputs": []
    },
    {
      "cell_type": "code",
      "source": [
        "grouped_data = student_data.groupby('school_code')"
      ],
      "metadata": {
        "id": "o6ED5ZZGXRsJ"
      },
      "execution_count": 3,
      "outputs": []
    },
    {
      "cell_type": "code",
      "source": [
        "for group_name, group_data in grouped_data:\n",
        "    print(\"School Code:\", group_name)\n",
        "    print(group_data)\n",
        "    print()"
      ],
      "metadata": {
        "colab": {
          "base_uri": "https://localhost:8080/"
        },
        "id": "JpdBS3oeXTaD",
        "outputId": "1e14c1b9-918a-425d-b0a0-d00a787f65c8"
      },
      "execution_count": 4,
      "outputs": [
        {
          "output_type": "stream",
          "name": "stdout",
          "text": [
            "School Code: s001\n",
            "   school_code class            name date_Of_Birth   age  height  weight  \\\n",
            "S1        s001     V  Alberto Franco     15/05/2002   12     173      35   \n",
            "S4        s001    VI    Eesha Hinton     25/09/1998   13     167      30   \n",
            "\n",
            "    address  \n",
            "S1  street1  \n",
            "S4  street1  \n",
            "\n",
            "School Code: s002\n",
            "   school_code class          name date_Of_Birth   age  height  weight  \\\n",
            "S2        s002     V  Gino Mcneill     17/05/2002   12     192      32   \n",
            "S5        s002     V  Gino Mcneill     11/05/2002   14     151      31   \n",
            "\n",
            "    address  \n",
            "S2  street2  \n",
            "S5  street2  \n",
            "\n",
            "School Code: s003\n",
            "   school_code class         name date_Of_Birth   age  height  weight  address\n",
            "S3        s003    VI  Ryan Parkes     16/02/1999   13     186      33  street3\n",
            "\n",
            "School Code: s004\n",
            "   school_code class          name date_Of_Birth   age  height  weight  \\\n",
            "S6        s004    VI  David Parkes     15/09/1997   12     159      32   \n",
            "\n",
            "    address  \n",
            "S6  street4  \n",
            "\n"
          ]
        }
      ]
    },
    {
      "cell_type": "code",
      "source": [
        "print(\"Type of GroupBy object:\", type(grouped_data))"
      ],
      "metadata": {
        "colab": {
          "base_uri": "https://localhost:8080/"
        },
        "id": "NvBsMWZXXTxB",
        "outputId": "fc2bfa9b-7194-4c37-e3c7-3e697ce00d73"
      },
      "execution_count": 5,
      "outputs": [
        {
          "output_type": "stream",
          "name": "stdout",
          "text": [
            "Type of GroupBy object: <class 'pandas.core.groupby.generic.DataFrameGroupBy'>\n"
          ]
        }
      ]
    }
  ]
}