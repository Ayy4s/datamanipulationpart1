{
  "nbformat": 4,
  "nbformat_minor": 0,
  "metadata": {
    "colab": {
      "provenance": [],
      "authorship_tag": "ABX9TyN+imQxia9EqqAjGrceAYFu",
      "include_colab_link": true
    },
    "kernelspec": {
      "name": "python3",
      "display_name": "Python 3"
    },
    "language_info": {
      "name": "python"
    }
  },
  "cells": [
    {
      "cell_type": "markdown",
      "metadata": {
        "id": "view-in-github",
        "colab_type": "text"
      },
      "source": [
        "<a href=\"https://colab.research.google.com/github/Ayy4s/datamanipulationpart1/blob/main/Exercise_2_Pandas.ipynb\" target=\"_parent\"><img src=\"https://colab.research.google.com/assets/colab-badge.svg\" alt=\"Open In Colab\"/></a>"
      ]
    },
    {
      "cell_type": "code",
      "execution_count": 1,
      "metadata": {
        "id": "40ysuBcbBlw1"
      },
      "outputs": [],
      "source": [
        "import pandas as pd"
      ]
    },
    {
      "cell_type": "code",
      "source": [
        "df = pd.read_csv('/content/world_alcohol - world_alcohol.csv')"
      ],
      "metadata": {
        "id": "6hvY-83tBqtp"
      },
      "execution_count": 2,
      "outputs": []
    },
    {
      "cell_type": "code",
      "source": [
        "regions = ['Africa', 'Eastern Mediterranean', 'Europe']"
      ],
      "metadata": {
        "id": "TG0x0rPxB2Au"
      },
      "execution_count": 3,
      "outputs": []
    },
    {
      "cell_type": "code",
      "source": [
        "filtered_df = df[df['WHO region'].isin(regions)]"
      ],
      "metadata": {
        "id": "2dOQCxSTB3hx"
      },
      "execution_count": 4,
      "outputs": []
    },
    {
      "cell_type": "code",
      "source": [
        "print(filtered_df)"
      ],
      "metadata": {
        "colab": {
          "base_uri": "https://localhost:8080/"
        },
        "id": "mAMrgVvVB4lm",
        "outputId": "94929720-ac4a-43e1-8edb-456e74a6dc58"
      },
      "execution_count": 5,
      "outputs": [
        {
          "output_type": "stream",
          "name": "stdout",
          "text": [
            "    Year WHO region            Country Beverage Types  Display Value\n",
            "2   1985     Africa       Cte d'Ivoire           Wine           1.62\n",
            "6   1987     Africa          Mauritius           Wine           0.13\n",
            "7   1985     Africa             Angola        Spirits           0.39\n",
            "9   1984     Africa            Nigeria          Other           6.10\n",
            "10  1987     Africa           Botswana           Wine           0.20\n",
            "..   ...        ...                ...            ...            ...\n",
            "93  1987     Africa         Madagascar          Other            NaN\n",
            "94  1985     Europe            Ukraine        Spirits           3.06\n",
            "95  1984     Africa              Niger          Other           0.00\n",
            "96  1985     Europe         Luxembourg           Wine           7.38\n",
            "98  1984     Africa  Equatorial Guinea           Wine           0.00\n",
            "\n",
            "[69 rows x 5 columns]\n"
          ]
        }
      ]
    }
  ]
}