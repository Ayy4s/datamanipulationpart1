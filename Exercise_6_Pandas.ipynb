{
  "nbformat": 4,
  "nbformat_minor": 0,
  "metadata": {
    "colab": {
      "provenance": [],
      "authorship_tag": "ABX9TyNZZn3vVpfIEirv4Anlbe3t",
      "include_colab_link": true
    },
    "kernelspec": {
      "name": "python3",
      "display_name": "Python 3"
    },
    "language_info": {
      "name": "python"
    }
  },
  "cells": [
    {
      "cell_type": "markdown",
      "metadata": {
        "id": "view-in-github",
        "colab_type": "text"
      },
      "source": [
        "<a href=\"https://colab.research.google.com/github/Ayy4s/datamanipulationpart1/blob/main/Exercise_6_Pandas.ipynb\" target=\"_parent\"><img src=\"https://colab.research.google.com/assets/colab-badge.svg\" alt=\"Open In Colab\"/></a>"
      ]
    },
    {
      "cell_type": "code",
      "execution_count": 1,
      "metadata": {
        "id": "rZ3FGqw2EzoE"
      },
      "outputs": [],
      "source": [
        "import pandas as pd"
      ]
    },
    {
      "cell_type": "code",
      "source": [
        "df = pd.read_csv('/content/world_alcohol - world_alcohol.csv')"
      ],
      "metadata": {
        "id": "mncLcWYvE7mb"
      },
      "execution_count": 2,
      "outputs": []
    },
    {
      "cell_type": "code",
      "source": [
        "filtered_df = df[df.index % 10 == 0]"
      ],
      "metadata": {
        "id": "RkZCKAzCE_kC"
      },
      "execution_count": 3,
      "outputs": []
    },
    {
      "cell_type": "code",
      "source": [
        "print(filtered_df)"
      ],
      "metadata": {
        "colab": {
          "base_uri": "https://localhost:8080/"
        },
        "id": "GFoaQoULE_9p",
        "outputId": "5f9f8fbb-8995-424c-c7e3-e8766721960c"
      },
      "execution_count": 4,
      "outputs": [
        {
          "output_type": "stream",
          "name": "stdout",
          "text": [
            "    Year             WHO region                     Country Beverage Types  \\\n",
            "0   1986        Western Pacific                    Viet Nam           Wine   \n",
            "10  1987                 Africa                    Botswana           Wine   \n",
            "20  1986        South-East Asia                     Myanmar           Wine   \n",
            "30  1986                 Africa                Sierra Leone          Other   \n",
            "40  1987                 Europe                     Austria        Spirits   \n",
            "50  1985                 Europe                 Switzerland          Other   \n",
            "60  1987  Eastern Mediterranean  Iran (Islamic Republic of)          Other   \n",
            "70  1986                 Africa                  Madagascar        Spirits   \n",
            "80  1985                 Africa                      Malawi          Other   \n",
            "90  1989                 Africa                      Malawi           Wine   \n",
            "\n",
            "    Display Value  \n",
            "0            0.00  \n",
            "10           0.20  \n",
            "20           0.00  \n",
            "30           4.48  \n",
            "40           1.90  \n",
            "50           0.30  \n",
            "60           0.00  \n",
            "70           1.02  \n",
            "80           0.84  \n",
            "90           0.01  \n"
          ]
        }
      ]
    }
  ]
}