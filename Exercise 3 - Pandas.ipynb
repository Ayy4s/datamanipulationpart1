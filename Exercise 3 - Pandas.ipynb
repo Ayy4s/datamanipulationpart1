{
  "nbformat": 4,
  "nbformat_minor": 0,
  "metadata": {
    "colab": {
      "provenance": [],
      "authorship_tag": "ABX9TyOax9q1PXrgVklAI2iCJwc/",
      "include_colab_link": true
    },
    "kernelspec": {
      "name": "python3",
      "display_name": "Python 3"
    },
    "language_info": {
      "name": "python"
    }
  },
  "cells": [
    {
      "cell_type": "markdown",
      "metadata": {
        "id": "view-in-github",
        "colab_type": "text"
      },
      "source": [
        "<a href=\"https://colab.research.google.com/github/Ayy4s/datamanipulationpart1/blob/main/Exercise%203%20-%20Pandas.ipynb\" target=\"_parent\"><img src=\"https://colab.research.google.com/assets/colab-badge.svg\" alt=\"Open In Colab\"/></a>"
      ]
    },
    {
      "cell_type": "code",
      "execution_count": 1,
      "metadata": {
        "id": "YlnWAzXV6zkc"
      },
      "outputs": [],
      "source": [
        "import pandas as pd\n"
      ]
    },
    {
      "cell_type": "code",
      "source": [
        "df = pd.read_csv('/content/world_alcohol - world_alcohol.csv')\n"
      ],
      "metadata": {
        "id": "2ddICkBH67Ae"
      },
      "execution_count": 2,
      "outputs": []
    },
    {
      "cell_type": "code",
      "source": [
        "filter_list = ['value1', 'value2', 'value3']\n"
      ],
      "metadata": {
        "id": "HbkWbhKm69u2"
      },
      "execution_count": 3,
      "outputs": []
    },
    {
      "cell_type": "code",
      "source": [
        "filtered_df = df.query('Year not in @filter_list and '\n",
        "                       '(`WHO region` not in @filter_list) and '\n",
        "                       'Country not in @filter_list and '\n",
        "                       '`Beverage Types` not in @filter_list and '\n",
        "                       '`Display Value` not in @filter_list')"
      ],
      "metadata": {
        "id": "9AGbpOeH6_jR"
      },
      "execution_count": 7,
      "outputs": []
    },
    {
      "cell_type": "code",
      "source": [
        "print(filtered_df)"
      ],
      "metadata": {
        "colab": {
          "base_uri": "https://localhost:8080/"
        },
        "id": "sOakKhcy7ZRb",
        "outputId": "1138cc7d-4ae5-4dbb-90ab-0f7ca237b55e"
      },
      "execution_count": 8,
      "outputs": [
        {
          "output_type": "stream",
          "name": "stdout",
          "text": [
            "    Year       WHO region                                Country  \\\n",
            "0   1986  Western Pacific                               Viet Nam   \n",
            "1   1986         Americas                                Uruguay   \n",
            "2   1985           Africa                           Cte d'Ivoire   \n",
            "3   1986         Americas                               Colombia   \n",
            "4   1987         Americas                  Saint Kitts and Nevis   \n",
            "..   ...              ...                                    ...   \n",
            "95  1984           Africa                                  Niger   \n",
            "96  1985           Europe                             Luxembourg   \n",
            "97  1984  South-East Asia                              Indonesia   \n",
            "98  1984           Africa                      Equatorial Guinea   \n",
            "99  1985  South-East Asia  Democratic People's Republic of Korea   \n",
            "\n",
            "   Beverage Types  Display Value  \n",
            "0            Wine           0.00  \n",
            "1           Other           0.50  \n",
            "2            Wine           1.62  \n",
            "3            Beer           4.27  \n",
            "4            Beer           1.98  \n",
            "..            ...            ...  \n",
            "95          Other           0.00  \n",
            "96           Wine           7.38  \n",
            "97           Wine           0.00  \n",
            "98           Wine           0.00  \n",
            "99           Wine           0.00  \n",
            "\n",
            "[100 rows x 5 columns]\n"
          ]
        }
      ]
    }
  ]
}