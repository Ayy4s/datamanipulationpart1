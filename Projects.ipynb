{
  "nbformat": 4,
  "nbformat_minor": 0,
  "metadata": {
    "colab": {
      "provenance": [],
      "authorship_tag": "ABX9TyOsZBgW7Gbh9HlH/TujYvYb",
      "include_colab_link": true
    },
    "kernelspec": {
      "name": "python3",
      "display_name": "Python 3"
    },
    "language_info": {
      "name": "python"
    }
  },
  "cells": [
    {
      "cell_type": "markdown",
      "metadata": {
        "id": "view-in-github",
        "colab_type": "text"
      },
      "source": [
        "<a href=\"https://colab.research.google.com/github/Ayy4s/datamanipulationpart1/blob/main/Projects.ipynb\" target=\"_parent\"><img src=\"https://colab.research.google.com/assets/colab-badge.svg\" alt=\"Open In Colab\"/></a>"
      ]
    },
    {
      "cell_type": "code",
      "execution_count": 12,
      "metadata": {
        "colab": {
          "base_uri": "https://localhost:8080/"
        },
        "id": "N3q_qA7sWnhv",
        "outputId": "7120e083-f3c1-4154-df6e-e51a0ac201ae"
      },
      "outputs": [
        {
          "output_type": "stream",
          "name": "stdout",
          "text": [
            "Requirement already satisfied: haversine in /usr/local/lib/python3.10/dist-packages (2.8.0)\n"
          ]
        }
      ],
      "source": [
        "!pip install haversine"
      ]
    },
    {
      "cell_type": "code",
      "source": [
        "import pandas as pd\n",
        "from haversine import haversine, Unit\n"
      ],
      "metadata": {
        "id": "9kb6hnQWW7Hf"
      },
      "execution_count": 13,
      "outputs": []
    },
    {
      "cell_type": "code",
      "source": [
        "file_path = \"/content/2017-fordgobike-tripdata_4-deployment-version.csv\"\n",
        "df = pd.read_csv(file_path)"
      ],
      "metadata": {
        "id": "59w-yBaEW8DS"
      },
      "execution_count": 15,
      "outputs": []
    },
    {
      "cell_type": "code",
      "source": [
        "#1-calculate distance of each trip using haversine library and add the result to the dataset\n",
        "def calculate_distance(row):\n",
        "    start_coords = (row['start_station_latitude'], row['start_station_longitude'])\n",
        "    end_coords = (row['end_station_latitude'], row['end_station_longitude'])\n",
        "    return haversine(start_coords, end_coords, unit=Unit.KILOMETERS)\n",
        "\n",
        "df['distance_km'] = df.apply(calculate_distance, axis=1)\n",
        "\n"
      ],
      "metadata": {
        "id": "-jhZwQXTXhwF"
      },
      "execution_count": 18,
      "outputs": []
    },
    {
      "cell_type": "code",
      "source": [
        "#2-calculate the duration in seconds of each trip\n",
        "df['start_time'] = pd.to_datetime(df['start_time'])\n",
        "df['end_time'] = pd.to_datetime(df['end_time'])\n",
        "df['duration_sec'] = (df['end_time'] - df['start_time']).dt.total_seconds()\n"
      ],
      "metadata": {
        "id": "8Bft7wyhXyDx"
      },
      "execution_count": 19,
      "outputs": []
    },
    {
      "cell_type": "code",
      "source": [
        "#3-by assuming each minute cost 0.35 cent calculate the fee for each trip\n",
        "minute_cost = 0.35\n",
        "\n",
        "df['start_time'] = pd.to_datetime(df['start_time'])\n",
        "df['end_time'] = pd.to_datetime(df['end_time'])\n",
        "df['duration_sec'] = (df['end_time'] - df['start_time']).dt.total_seconds()\n",
        "\n",
        "df['trip_fee_cents'] = (df['duration_sec'] / 60) * minute_cost\n"
      ],
      "metadata": {
        "id": "FPJH63MsYYD-"
      },
      "execution_count": 20,
      "outputs": []
    }
  ]
}