{
  "nbformat": 4,
  "nbformat_minor": 0,
  "metadata": {
    "colab": {
      "provenance": [],
      "include_colab_link": true
    },
    "kernelspec": {
      "name": "python3",
      "display_name": "Python 3"
    },
    "language_info": {
      "name": "python"
    }
  },
  "cells": [
    {
      "cell_type": "markdown",
      "metadata": {
        "id": "view-in-github",
        "colab_type": "text"
      },
      "source": [
        "<a href=\"https://colab.research.google.com/github/Ayy4s/datamanipulationpart1/blob/main/project_week3.ipynb\" target=\"_parent\"><img src=\"https://colab.research.google.com/assets/colab-badge.svg\" alt=\"Open In Colab\"/></a>"
      ]
    },
    {
      "cell_type": "code",
      "execution_count": null,
      "metadata": {
        "colab": {
          "base_uri": "https://localhost:8080/"
        },
        "id": "eViLt2ylYWT7",
        "outputId": "efe484e6-e754-4424-9151-104537b2deb1"
      },
      "outputs": [
        {
          "output_type": "stream",
          "name": "stdout",
          "text": [
            "Drive already mounted at /content/drive; to attempt to forcibly remount, call drive.mount(\"/content/drive\", force_remount=True).\n"
          ]
        }
      ],
      "source": [
        "from google.colab import drive\n",
        "drive.mount('/content/drive')"
      ]
    },
    {
      "cell_type": "code",
      "source": [
        "import pandas as pd\n",
        "import matplotlib.pyplot as plt\n",
        "import seaborn as sns\n",
        "path = '/content/drive/MyDrive/cleaned_playstore_reviews.csv'\n",
        "df = pd.read_csv(path)\n",
        "path2 = '/content/drive/MyDrive/cleaned_playstore.csv'\n",
        "df2 = pd.read_csv(path2)\n",
        "\n",
        "combined_df2 = pd.merge(df, df2, on='App')"
      ],
      "metadata": {
        "id": "H8TqeueGUYE5"
      },
      "execution_count": null,
      "outputs": []
    },
    {
      "cell_type": "code",
      "source": [
        "combined_df2.describe()"
      ],
      "metadata": {
        "id": "ZHIEGwNhqjuj"
      },
      "execution_count": null,
      "outputs": []
    },
    {
      "cell_type": "code",
      "source": [
        "combined_df2.head()"
      ],
      "metadata": {
        "id": "DGz03rcsWdW8"
      },
      "execution_count": null,
      "outputs": []
    },
    {
      "cell_type": "code",
      "source": [
        "!pip install afinn"
      ],
      "metadata": {
        "id": "47-eZ4meVsv5"
      },
      "execution_count": null,
      "outputs": []
    },
    {
      "cell_type": "code",
      "source": [
        "from afinn import Afinn"
      ],
      "metadata": {
        "id": "Rm2_ImKJV6ll"
      },
      "execution_count": null,
      "outputs": []
    },
    {
      "cell_type": "code",
      "source": [
        "afinn = Afinn(emoticons=True, language ='en')\n",
        "\n",
        "sentiment_scores = []\n",
        "for index, row in combined_df2.iterrows():\n",
        "    text = row['Translated_Review']\n",
        "    sentiment_score = afinn.score(text)\n",
        "    sentiment_scores.append(sentiment_score)\n",
        "\n",
        "combined_df2['sentiment_score'] = sentiment_scores\n",
        "\n",
        "combined_df2['sentiment'] = combined_df2['sentiment_score'].apply(lambda score: 'Positive' if score > 0 else 'Negative' if score < 0 else 'Neutral')\n"
      ],
      "metadata": {
        "id": "d3RChCUplA3G"
      },
      "execution_count": null,
      "outputs": []
    },
    {
      "cell_type": "code",
      "source": [
        "combined_df2 = combined_df2.drop(['Sentiment_Polarity', 'Sentiment', 'Sentiment_Subjectivity'], axis=1)"
      ],
      "metadata": {
        "id": "hp_rEjkvV9-P"
      },
      "execution_count": null,
      "outputs": []
    },
    {
      "cell_type": "code",
      "source": [
        "paid_apps = combined_df2[combined_df2['Type'] == 'Paid']\n",
        "\n",
        "top_sentiment = paid_apps.nlargest(5, 'sentiment_score')\n",
        "\n",
        "bottom_sentiment = paid_apps.nsmallest(5, 'sentiment_score')\n",
        "\n",
        "\n",
        "top_sentiment = top_sentiment[['App', 'Category', 'sentiment_score']]\n",
        "\n",
        "bottom_sentiment = bottom_sentiment[['App', 'Category', 'sentiment_score']]\n",
        "\n",
        "print(\"Top 5 Highest Sentiment:\")\n",
        "print(top_sentiment)\n",
        "print('\\n')\n",
        "print(\"Top 5 Lowest Sentiment:\")\n",
        "print(bottom_sentiment)\n",
        "print('\\n')\n",
        "\n",
        "\n",
        "category_sentiment = combined_df2.groupby('Category')['sentiment_score'].mean()\n",
        "\n",
        "best_category = category_sentiment.idxmax()\n",
        "print(\"Best Category:\", best_category)"
      ],
      "metadata": {
        "id": "jdP3JJG1uPjm"
      },
      "execution_count": null,
      "outputs": []
    }
  ]
}