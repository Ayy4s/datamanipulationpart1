{
  "nbformat": 4,
  "nbformat_minor": 0,
  "metadata": {
    "colab": {
      "provenance": [],
      "authorship_tag": "ABX9TyNhAUSqUk/kw+yymUiCf2ii",
      "include_colab_link": true
    },
    "kernelspec": {
      "name": "python3",
      "display_name": "Python 3"
    },
    "language_info": {
      "name": "python"
    }
  },
  "cells": [
    {
      "cell_type": "markdown",
      "metadata": {
        "id": "view-in-github",
        "colab_type": "text"
      },
      "source": [
        "<a href=\"https://colab.research.google.com/github/Ayy4s/datamanipulationpart1/blob/main/Exercise_13_Pandas_Style.ipynb\" target=\"_parent\"><img src=\"https://colab.research.google.com/assets/colab-badge.svg\" alt=\"Open In Colab\"/></a>"
      ]
    },
    {
      "cell_type": "code",
      "execution_count": 1,
      "metadata": {
        "id": "Y396nly_ZM41"
      },
      "outputs": [],
      "source": [
        "import pandas as pd\n",
        "import numpy as np"
      ]
    },
    {
      "cell_type": "code",
      "source": [
        "np.random.seed(42)\n"
      ],
      "metadata": {
        "id": "sq34G07cZa8i"
      },
      "execution_count": 8,
      "outputs": []
    },
    {
      "cell_type": "code",
      "source": [
        "df = pd.DataFrame(np.random.rand(10, 4), columns=['A', 'B', 'C', 'D'])"
      ],
      "metadata": {
        "id": "rqwCNDkEZc7j"
      },
      "execution_count": 9,
      "outputs": []
    },
    {
      "cell_type": "code",
      "source": [
        "column_colors = {'A': 'yellow', 'B': 'cyan', 'C': 'green', 'D': 'magenta'}\n"
      ],
      "metadata": {
        "id": "TWw0OliKZ4wu"
      },
      "execution_count": 15,
      "outputs": []
    },
    {
      "cell_type": "code",
      "source": [
        "styled_df = df.style.apply(lambda _: [f'background-color: {column_colors.get(col)}' for col in df.columns])"
      ],
      "metadata": {
        "id": "ij7p_z5GZ7uJ"
      },
      "execution_count": 16,
      "outputs": []
    },
    {
      "cell_type": "code",
      "source": [
        "styled_df"
      ],
      "metadata": {
        "colab": {
          "base_uri": "https://localhost:8080/",
          "height": 363
        },
        "id": "M25HWTbtZ-RU",
        "outputId": "f6686082-f65b-4e1f-99c2-190aa3e4d116"
      },
      "execution_count": 17,
      "outputs": [
        {
          "output_type": "execute_result",
          "data": {
            "text/plain": [
              "<pandas.io.formats.style.Styler at 0x7fdf9919f4f0>"
            ],
            "text/html": [
              "<style type=\"text/css\">\n",
              "#T_4820a_row0_col0, #T_4820a_row0_col1, #T_4820a_row0_col2, #T_4820a_row0_col3 {\n",
              "  background-color: yellow;\n",
              "}\n",
              "#T_4820a_row1_col0, #T_4820a_row1_col1, #T_4820a_row1_col2, #T_4820a_row1_col3 {\n",
              "  background-color: cyan;\n",
              "}\n",
              "#T_4820a_row2_col0, #T_4820a_row2_col1, #T_4820a_row2_col2, #T_4820a_row2_col3 {\n",
              "  background-color: green;\n",
              "}\n",
              "#T_4820a_row3_col0, #T_4820a_row3_col1, #T_4820a_row3_col2, #T_4820a_row3_col3 {\n",
              "  background-color: magenta;\n",
              "}\n",
              "</style>\n",
              "<table id=\"T_4820a\" class=\"dataframe\">\n",
              "  <thead>\n",
              "    <tr>\n",
              "      <th class=\"blank level0\" >&nbsp;</th>\n",
              "      <th id=\"T_4820a_level0_col0\" class=\"col_heading level0 col0\" >A</th>\n",
              "      <th id=\"T_4820a_level0_col1\" class=\"col_heading level0 col1\" >B</th>\n",
              "      <th id=\"T_4820a_level0_col2\" class=\"col_heading level0 col2\" >C</th>\n",
              "      <th id=\"T_4820a_level0_col3\" class=\"col_heading level0 col3\" >D</th>\n",
              "    </tr>\n",
              "  </thead>\n",
              "  <tbody>\n",
              "    <tr>\n",
              "      <th id=\"T_4820a_level0_row0\" class=\"row_heading level0 row0\" >0</th>\n",
              "      <td id=\"T_4820a_row0_col0\" class=\"data row0 col0\" >0.374540</td>\n",
              "      <td id=\"T_4820a_row0_col1\" class=\"data row0 col1\" >0.950714</td>\n",
              "      <td id=\"T_4820a_row0_col2\" class=\"data row0 col2\" >0.731994</td>\n",
              "      <td id=\"T_4820a_row0_col3\" class=\"data row0 col3\" >0.598658</td>\n",
              "    </tr>\n",
              "    <tr>\n",
              "      <th id=\"T_4820a_level0_row1\" class=\"row_heading level0 row1\" >1</th>\n",
              "      <td id=\"T_4820a_row1_col0\" class=\"data row1 col0\" >0.156019</td>\n",
              "      <td id=\"T_4820a_row1_col1\" class=\"data row1 col1\" >0.155995</td>\n",
              "      <td id=\"T_4820a_row1_col2\" class=\"data row1 col2\" >0.058084</td>\n",
              "      <td id=\"T_4820a_row1_col3\" class=\"data row1 col3\" >0.866176</td>\n",
              "    </tr>\n",
              "    <tr>\n",
              "      <th id=\"T_4820a_level0_row2\" class=\"row_heading level0 row2\" >2</th>\n",
              "      <td id=\"T_4820a_row2_col0\" class=\"data row2 col0\" >0.601115</td>\n",
              "      <td id=\"T_4820a_row2_col1\" class=\"data row2 col1\" >0.708073</td>\n",
              "      <td id=\"T_4820a_row2_col2\" class=\"data row2 col2\" >0.020584</td>\n",
              "      <td id=\"T_4820a_row2_col3\" class=\"data row2 col3\" >0.969910</td>\n",
              "    </tr>\n",
              "    <tr>\n",
              "      <th id=\"T_4820a_level0_row3\" class=\"row_heading level0 row3\" >3</th>\n",
              "      <td id=\"T_4820a_row3_col0\" class=\"data row3 col0\" >0.832443</td>\n",
              "      <td id=\"T_4820a_row3_col1\" class=\"data row3 col1\" >0.212339</td>\n",
              "      <td id=\"T_4820a_row3_col2\" class=\"data row3 col2\" >0.181825</td>\n",
              "      <td id=\"T_4820a_row3_col3\" class=\"data row3 col3\" >0.183405</td>\n",
              "    </tr>\n",
              "    <tr>\n",
              "      <th id=\"T_4820a_level0_row4\" class=\"row_heading level0 row4\" >4</th>\n",
              "      <td id=\"T_4820a_row4_col0\" class=\"data row4 col0\" >0.304242</td>\n",
              "      <td id=\"T_4820a_row4_col1\" class=\"data row4 col1\" >0.524756</td>\n",
              "      <td id=\"T_4820a_row4_col2\" class=\"data row4 col2\" >0.431945</td>\n",
              "      <td id=\"T_4820a_row4_col3\" class=\"data row4 col3\" >0.291229</td>\n",
              "    </tr>\n",
              "    <tr>\n",
              "      <th id=\"T_4820a_level0_row5\" class=\"row_heading level0 row5\" >5</th>\n",
              "      <td id=\"T_4820a_row5_col0\" class=\"data row5 col0\" >0.611853</td>\n",
              "      <td id=\"T_4820a_row5_col1\" class=\"data row5 col1\" >0.139494</td>\n",
              "      <td id=\"T_4820a_row5_col2\" class=\"data row5 col2\" >0.292145</td>\n",
              "      <td id=\"T_4820a_row5_col3\" class=\"data row5 col3\" >0.366362</td>\n",
              "    </tr>\n",
              "    <tr>\n",
              "      <th id=\"T_4820a_level0_row6\" class=\"row_heading level0 row6\" >6</th>\n",
              "      <td id=\"T_4820a_row6_col0\" class=\"data row6 col0\" >0.456070</td>\n",
              "      <td id=\"T_4820a_row6_col1\" class=\"data row6 col1\" >0.785176</td>\n",
              "      <td id=\"T_4820a_row6_col2\" class=\"data row6 col2\" >0.199674</td>\n",
              "      <td id=\"T_4820a_row6_col3\" class=\"data row6 col3\" >0.514234</td>\n",
              "    </tr>\n",
              "    <tr>\n",
              "      <th id=\"T_4820a_level0_row7\" class=\"row_heading level0 row7\" >7</th>\n",
              "      <td id=\"T_4820a_row7_col0\" class=\"data row7 col0\" >0.592415</td>\n",
              "      <td id=\"T_4820a_row7_col1\" class=\"data row7 col1\" >0.046450</td>\n",
              "      <td id=\"T_4820a_row7_col2\" class=\"data row7 col2\" >0.607545</td>\n",
              "      <td id=\"T_4820a_row7_col3\" class=\"data row7 col3\" >0.170524</td>\n",
              "    </tr>\n",
              "    <tr>\n",
              "      <th id=\"T_4820a_level0_row8\" class=\"row_heading level0 row8\" >8</th>\n",
              "      <td id=\"T_4820a_row8_col0\" class=\"data row8 col0\" >0.065052</td>\n",
              "      <td id=\"T_4820a_row8_col1\" class=\"data row8 col1\" >0.948886</td>\n",
              "      <td id=\"T_4820a_row8_col2\" class=\"data row8 col2\" >0.965632</td>\n",
              "      <td id=\"T_4820a_row8_col3\" class=\"data row8 col3\" >0.808397</td>\n",
              "    </tr>\n",
              "    <tr>\n",
              "      <th id=\"T_4820a_level0_row9\" class=\"row_heading level0 row9\" >9</th>\n",
              "      <td id=\"T_4820a_row9_col0\" class=\"data row9 col0\" >0.304614</td>\n",
              "      <td id=\"T_4820a_row9_col1\" class=\"data row9 col1\" >0.097672</td>\n",
              "      <td id=\"T_4820a_row9_col2\" class=\"data row9 col2\" >0.684233</td>\n",
              "      <td id=\"T_4820a_row9_col3\" class=\"data row9 col3\" >0.440152</td>\n",
              "    </tr>\n",
              "  </tbody>\n",
              "</table>\n"
            ]
          },
          "metadata": {},
          "execution_count": 17
        }
      ]
    }
  ]
}