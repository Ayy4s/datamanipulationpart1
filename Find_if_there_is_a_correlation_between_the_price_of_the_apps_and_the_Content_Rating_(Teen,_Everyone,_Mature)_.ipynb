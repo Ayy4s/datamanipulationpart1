{
  "nbformat": 4,
  "nbformat_minor": 0,
  "metadata": {
    "colab": {
      "provenance": [],
      "authorship_tag": "ABX9TyMp54MsfytoCLLbcxX3jYxT",
      "include_colab_link": true
    },
    "kernelspec": {
      "name": "python3",
      "display_name": "Python 3"
    },
    "language_info": {
      "name": "python"
    }
  },
  "cells": [
    {
      "cell_type": "markdown",
      "metadata": {
        "id": "view-in-github",
        "colab_type": "text"
      },
      "source": [
        "<a href=\"https://colab.research.google.com/github/Ayy4s/datamanipulationpart1/blob/main/Find_if_there_is_a_correlation_between_the_price_of_the_apps_and_the_Content_Rating_(Teen%2C_Everyone%2C_Mature)_.ipynb\" target=\"_parent\"><img src=\"https://colab.research.google.com/assets/colab-badge.svg\" alt=\"Open In Colab\"/></a>"
      ]
    },
    {
      "cell_type": "code",
      "execution_count": null,
      "metadata": {
        "id": "4SvYqViw6Vim"
      },
      "outputs": [],
      "source": [
        "import pandas as pd\n",
        "import pickle\n",
        "from sklearn.model_selection import train_test_split"
      ]
    },
    {
      "cell_type": "code",
      "source": [
        "df = pd.read_csv('cleaned_playstore.csv')"
      ],
      "metadata": {
        "id": "I5ncauLa6gre"
      },
      "execution_count": null,
      "outputs": []
    },
    {
      "cell_type": "code",
      "source": [
        "#Split the dataset into four parts: df1, df2, df3, df4(veri kümesini dört parçaya ayırma)\n",
        "df1, df_remainder = train_test_split(df, test_size=0.25, random_state=42)\n",
        "df2, df34 = train_test_split(df_remainder, test_size=0.5, random_state=42)\n",
        "df3, df4 = train_test_split(df34, test_size=0.5, random_state=42)\n"
      ],
      "metadata": {
        "id": "NE8IJjSx6h73"
      },
      "execution_count": null,
      "outputs": []
    },
    {
      "cell_type": "code",
      "source": [
        "# Pickle the datasets time(veri küme seçmece)\n",
        "df1.to_pickle('df1.pkl')\n",
        "df2.to_pickle('df2.pkl')\n",
        "df3.to_pickle('df3.pkl')\n",
        "df4.to_pickle('df4.pkl')"
      ],
      "metadata": {
        "id": "uVJK1hNL6u-q"
      },
      "execution_count": null,
      "outputs": []
    },
    {
      "cell_type": "code",
      "source": [
        "#Unpickle the individual dataset files(seçimleri kaldırma)\n",
        "with open('df2.pkl', 'rb') as f:\n",
        "    df2 = pd.read_pickle(f)"
      ],
      "metadata": {
        "id": "_1xYyKXt6_d9"
      },
      "execution_count": null,
      "outputs": []
    },
    {
      "cell_type": "code",
      "source": [
        "with open('/content/df2.pkl', 'rb') as f:\n",
        "    df2 = pickle.load(f)\n",
        "\n",
        "with open('/content/df4.pkl', 'rb') as f:\n",
        "    df4 = pickle.load(f)\n",
        "\n",
        "with open('/content/df1.pkl', 'rb') as f:\n",
        "    df1 = pickle.load(f)\n",
        "\n",
        "with open('/content/df3.pkl', 'rb') as f:\n",
        "    df3 = pickle.load(f)"
      ],
      "metadata": {
        "id": "evFPLlMp7Khq"
      },
      "execution_count": null,
      "outputs": []
    },
    {
      "cell_type": "code",
      "source": [
        "#Merge the datasets in the 2-4-1-3\n",
        "merged_df = pd.concat([df2, df4, df1, df3], ignore_index=True)"
      ],
      "metadata": {
        "id": "C05KuEcR7XOI"
      },
      "execution_count": null,
      "outputs": []
    },
    {
      "cell_type": "code",
      "source": [
        "#sırayı terse çevirme(Reverse the order of rows)\n",
        "reversed_df = df[::-1]"
      ],
      "metadata": {
        "id": "qdIPUSeZ7rLK"
      },
      "execution_count": null,
      "outputs": []
    },
    {
      "cell_type": "code",
      "source": [
        "#pencere parametlerini tanımlama(Define the sliding window parameters)\n",
        "window_size = 5\n",
        "stride = 1"
      ],
      "metadata": {
        "id": "DdSqk8s271w8"
      },
      "execution_count": null,
      "outputs": []
    },
    {
      "cell_type": "code",
      "source": [
        "#Apply the sliding window and listede saklama(Apply the sliding window technique and store the patches in a 2D list)\n",
        "patches = []\n",
        "for i in range(0, len(df) - window_size + 1, stride):\n",
        "    patch = df.iloc[i:i+window_size].values.tolist()\n",
        "    patches.append(patch)"
      ],
      "metadata": {
        "id": "I3Gr5-GR7_yj"
      },
      "execution_count": null,
      "outputs": []
    },
    {
      "cell_type": "code",
      "source": [],
      "metadata": {
        "id": "QcUjGSnRFQ2B"
      },
      "execution_count": null,
      "outputs": []
    },
    {
      "cell_type": "code",
      "source": [
        "#begins\n",
        "import pandas as pd\n",
        "from scipy.stats import spearmanr\n"
      ],
      "metadata": {
        "id": "Zc0hqrYw9Yxj"
      },
      "execution_count": null,
      "outputs": []
    },
    {
      "cell_type": "code",
      "source": [
        "\n",
        "df = pd.read_csv('/content/cleaned_playstore.csv')\n"
      ],
      "metadata": {
        "id": "aS0nfb338p5-"
      },
      "execution_count": null,
      "outputs": []
    },
    {
      "cell_type": "code",
      "source": [
        "#Select the relevant columns for analysis(analiz için sütunlar)\n",
        "selected_columns = ['Price', 'Content Rating']\n",
        "data = df[selected_columns].copy()"
      ],
      "metadata": {
        "id": "0mrBGX1I8xDp"
      },
      "execution_count": null,
      "outputs": []
    },
    {
      "cell_type": "code",
      "source": [
        "#Convert the 'Price' column to a numeric(fiyat sütununu sayısala dönüştürme)\n",
        "data['Price'] = pd.to_numeric(data['Price'].replace('$', ''))"
      ],
      "metadata": {
        "id": "xHUwP2P49B3l"
      },
      "execution_count": null,
      "outputs": []
    },
    {
      "cell_type": "code",
      "source": [
        "#Map the content rating values to numeric labels for correlation analysis?????????\n",
        "rating_map = {'Everyone': 1, 'Teen': 2, 'Mature': 3}\n",
        "data['Content Rating'] = data['Content Rating'].map(rating_map)"
      ],
      "metadata": {
        "id": "hggxKdzF9FA1"
      },
      "execution_count": null,
      "outputs": []
    },
    {
      "cell_type": "code",
      "source": [
        "#Drop any rows with missing values(eksik değerleri bırak dropla)\n",
        "data = data.dropna()"
      ],
      "metadata": {
        "id": "VmXaWiGe9Gz4"
      },
      "execution_count": null,
      "outputs": []
    },
    {
      "cell_type": "code",
      "source": [
        "#Calculate the correlation coefficient(Korelasyon katsayısını hesaplama)\n",
        "correlation, p_value = spearmanr(data['Price'], data['Content Rating'])\n"
      ],
      "metadata": {
        "id": "xtUhyQju9Ib8"
      },
      "execution_count": null,
      "outputs": []
    },
    {
      "cell_type": "code",
      "source": [
        "print(\"Correlation coefficient:\", correlation)\n",
        "print(\"p-value:\", p_value)"
      ],
      "metadata": {
        "colab": {
          "base_uri": "https://localhost:8080/"
        },
        "id": "3XItJgxk9eYW",
        "outputId": "6bac474a-5953-48c5-fc93-f1831873772b"
      },
      "execution_count": null,
      "outputs": [
        {
          "output_type": "stream",
          "name": "stdout",
          "text": [
            "Correlation coefficient: -0.037990438739185846\n",
            "p-value: 0.00032733287800625164\n"
          ]
        }
      ]
    },
    {
      "cell_type": "code",
      "source": [
        "import matplotlib.pyplot as plt\n",
        "\n",
        "# Plotting a bar graph\n",
        "plt.bar(['Correlation'], [correlation])\n",
        "plt.xlabel('Correlation')\n",
        "plt.ylabel('Value')\n",
        "plt.title('Correlation between Price and Content Rating')\n",
        "plt.show()\n",
        "\n",
        "# Plotting a scatter plot\n",
        "plt.scatter(data['Price'], data['Content Rating'])\n",
        "plt.xlabel('Price')\n",
        "plt.ylabel('Content Rating')\n",
        "plt.title('Price vs. Content Rating')\n",
        "plt.show()\n",
        "\n"
      ],
      "metadata": {
        "colab": {
          "base_uri": "https://localhost:8080/",
          "height": 927
        },
        "id": "fHXVS7MB9uu2",
        "outputId": "10202be6-30d7-456d-9d88-4194a7f9617c"
      },
      "execution_count": null,
      "outputs": [
        {
          "output_type": "display_data",
          "data": {
            "text/plain": [
              "<Figure size 640x480 with 1 Axes>"
            ],
            "image/png": "[encoded data removed]"
          },
          "metadata": {}
        },
        {
          "output_type": "display_data",
          "data": {
            "text/plain": [
              "<Figure size 640x480 with 1 Axes>"
            ],
            "image/png": "[encoded data removed]"
          },
          "metadata": {}
        }
      ]
    }
  ]
}